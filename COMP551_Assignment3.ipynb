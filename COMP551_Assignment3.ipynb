{
  "cells": [
    {
      "cell_type": "markdown",
      "metadata": {
        "id": "view-in-github",
        "colab_type": "text"
      },
      "source": [
        "<a href=\"https://colab.research.google.com/github/Guillaume-mcgill/school/blob/main/COMP551_Assignment3.ipynb\" target=\"_parent\"><img src=\"https://colab.research.google.com/assets/colab-badge.svg\" alt=\"Open In Colab\"/></a>"
      ]
    },
    {
      "cell_type": "markdown",
      "source": [
        "Samuel Bernard [260983658]                                                                             \n",
        "Mohul Sharma [260986320]                                                                  \n",
        "Guillaume Rodier [260975661]"
      ],
      "metadata": {
        "id": "R3-HMcLmox7p"
      }
    },
    {
      "cell_type": "markdown",
      "source": [
        "***IMPORTS***\n",
        "\n"
      ],
      "metadata": {
        "id": "3oi6p-RWidkz"
      }
    },
    {
      "cell_type": "code",
      "execution_count": null,
      "metadata": {
        "id": "93QvT3rQamAH"
      },
      "outputs": [],
      "source": [
        "import numpy as np\n",
        "#%matplotlib notebook\n",
        "%matplotlib inline\n",
        "import matplotlib.pyplot as plt\n",
        "from IPython.core.debugger import set_trace\n",
        "import warnings\n",
        "warnings.filterwarnings('ignore')\n",
        "import tensorflow as tf\n",
        "\n",
        "\n",
        "from typing import List\n",
        "from tqdm import tqdm\n",
        "\n",
        "np.random.seed(1234)"
      ]
    },
    {
      "cell_type": "markdown",
      "source": [
        "***TASK 1: Acquire the Fashion-MNIST data***"
      ],
      "metadata": {
        "id": "welsw-9aZ_RO"
      }
    },
    {
      "cell_type": "markdown",
      "source": [
        "Loading the data"
      ],
      "metadata": {
        "id": "nGkdNvPlaNcn"
      }
    },
    {
      "cell_type": "code",
      "execution_count": null,
      "metadata": {
        "id": "1MWwdc77NHDm"
      },
      "outputs": [],
      "source": [
        "#calling the data\n",
        "fashion_mnist=tf.keras.datasets.fashion_mnist\n",
        "(train_images,train_labels),(test_images,test_labels)=fashion_mnist.load_data()"
      ]
    },
    {
      "cell_type": "markdown",
      "source": [
        "Exploratory analysis"
      ],
      "metadata": {
        "id": "iOhl0Fa5aysn"
      }
    },
    {
      "cell_type": "code",
      "source": [
        "#Count number of times each label appear in training\n",
        "def counter(inputData,labelList):\n",
        "  counters={}\n",
        "  for label in labelList:\n",
        "    counters[label]=np.count_nonzero(inputData==label)\n",
        "  print(counters)\n",
        "  return counters\n",
        "\n",
        "train_count_d=counter(train_labels,list(range(10)))\n",
        "test_count_d=counter(test_labels,list(range(10)))"
      ],
      "metadata": {
        "colab": {
          "base_uri": "https://localhost:8080/"
        },
        "id": "06Ex0-26bSWQ",
        "outputId": "42ded14a-5a73-4266-fe65-781700be6b6d"
      },
      "execution_count": null,
      "outputs": [
        {
          "output_type": "stream",
          "name": "stdout",
          "text": [
            "{0: 6000, 1: 6000, 2: 6000, 3: 6000, 4: 6000, 5: 6000, 6: 6000, 7: 6000, 8: 6000, 9: 6000}\n",
            "{0: 1000, 1: 1000, 2: 1000, 3: 1000, 4: 1000, 5: 1000, 6: 1000, 7: 1000, 8: 1000, 9: 1000}\n"
          ]
        }
      ]
    },
    {
      "cell_type": "code",
      "source": [
        "# Making the clothing article distribution\n",
        "label_combined=np.concatenate((train_labels,test_labels))\n",
        "labels=['T-shirt/top','Trouser','Pullover','Dress','Coat','Sandal','Shirt','Sneaker','Bag','Ankle Boot']\n",
        "cneg=['tomato']\n",
        "cpos=['yellowgreen']\n",
        "\n",
        "train_count_l=[]\n",
        "test_count_l=[]\n",
        "for key,value in train_count_d.items():\n",
        "  train_count_l.append(value)\n",
        "for key,value in test_count_d.items():\n",
        "  test_count_l.append(value)\n",
        "\n",
        "plt.figure(figsize=(10,5))\n",
        "c=['lightsteelblue','plum']\n",
        "lab=np.arange(len(labels))\n",
        "plt.bar(lab,train_count_l,align='center',color=c[0])\n",
        "plt.bar(lab,test_count_l,align='center',color=c[1],bottom=train_count_l)\n",
        "plt.legend(['Training Set: '+str(train_labels.shape[0])+' images', 'Testing Set: '+str(test_labels.shape[0])+' images'])\n",
        "plt.xticks(lab,labels)\n",
        "plt.ylim((0, 9000))\n",
        "#plt.legend(['Positive Reviews: '+str(valuepos),'Negative Reviews: '+str(valueneg)])\n",
        "plt.xlabel('Clothing Articles')\n",
        "plt.ylabel('Frequency')\n",
        "plt.title('Clothing Article Distribution From The Fashion MNIST Dataset')\n",
        "plt.show()\n"
      ],
      "metadata": {
        "colab": {
          "base_uri": "https://localhost:8080/",
          "height": 350
        },
        "id": "maF3nJg5ayXO",
        "outputId": "5f991c75-d11e-4b96-cbb5-9442dbe95214"
      },
      "execution_count": null,
      "outputs": [
        {
          "output_type": "display_data",
          "data": {
            "text/plain": [
              "<Figure size 720x360 with 1 Axes>"
            ],
            "image/png": "[encoded data removed]"
          },
          "metadata": {
            "needs_background": "light"
          }
        }
      ]
    },
    {
      "cell_type": "markdown",
      "source": [
        "Preprocessing the data"
      ],
      "metadata": {
        "id": "blDY3fMYkEgd"
      }
    },
    {
      "cell_type": "code",
      "execution_count": null,
      "metadata": {
        "id": "asJAehLPOKON"
      },
      "outputs": [],
      "source": [
        "#Our images are in greyscale with values in 255 but a neural network works better with normalize data\n",
        "test_images1=test_images/255.0\n",
        "train_images1=train_images/255.0\n",
        "\n",
        "#Next, we need to flatten the input\n",
        "def flatten(input_image):\n",
        "  train_image_empt=np.zeros((input_image.shape[0],(input_image.shape[1]**2)))\n",
        "  for image in range(input_image.shape[0]):\n",
        "    train_image_empt[image,:]=input_image[image,:].flatten()\n",
        "  #print(train_image_empt.shape)\n",
        "  return train_image_empt\n",
        "\n",
        "\n",
        "train_I=flatten(train_images1)\n",
        "test_I=flatten(test_images1)\n"
      ]
    },
    {
      "cell_type": "markdown",
      "source": [
        "***TASK 2: Implement an MLP to classify image data***"
      ],
      "metadata": {
        "id": "0c_BpEHOaK8d"
      }
    },
    {
      "cell_type": "markdown",
      "source": [
        "Core MLP architecture:"
      ],
      "metadata": {
        "id": "bReeFLFVjIB6"
      }
    },
    {
      "cell_type": "code",
      "execution_count": null,
      "metadata": {
        "id": "dxe1OAIgamAJ"
      },
      "outputs": [],
      "source": [
        "class NeuralNetLayer:\n",
        "    def __init__(self):\n",
        "        self.gradient = None\n",
        "        self.parameters = None\n",
        "\n",
        "    def forward(self, x):\n",
        "        raise NotImplementedError\n",
        "\n",
        "    def backward(self, gradient):\n",
        "        raise NotImplementedError"
      ]
    },
    {
      "cell_type": "markdown",
      "source": [
        "We will only look at linear layers (or fully connected layers):"
      ],
      "metadata": {
        "id": "Hxqu6lcajMEp"
      }
    },
    {
      "cell_type": "code",
      "execution_count": null,
      "metadata": {
        "id": "2UKihUIjamAL"
      },
      "outputs": [],
      "source": [
        "class LinearLayer(NeuralNetLayer):\n",
        "    def __init__(self, input_size, output_size):\n",
        "        super().__init__()\n",
        "        self.ni = input_size\n",
        "        self.no = output_size\n",
        "        self.w = np.random.randn(output_size, input_size)\n",
        "        self.b = np.random.randn(output_size)\n",
        "        self.cur_input = None\n",
        "        self.parameters = [self.w, self.b]\n",
        "\n",
        "    def forward(self, x):\n",
        "        self.cur_input = x\n",
        "        #print(x.shape)\n",
        "        return (self.w[None, :, :] @ x[:, :, None]).squeeze() + self.b\n",
        "\n",
        "    def backward(self, gradient):\n",
        "        assert self.cur_input is not None, \"Must call forward before backward\"\n",
        "        #dw = gradient.dot(self.cur_input)\n",
        "        dw = gradient[:, :, None] @ self.cur_input[:, None, :]\n",
        "        db = gradient\n",
        "        self.gradient = [dw, db]\n",
        "        return gradient.dot(self.w)"
      ]
    },
    {
      "cell_type": "markdown",
      "source": [
        "ReLU activation function:"
      ],
      "metadata": {
        "id": "BviEdwUBjVU0"
      }
    },
    {
      "cell_type": "code",
      "execution_count": null,
      "metadata": {
        "id": "7POPQTzIamAL"
      },
      "outputs": [],
      "source": [
        "class ReLULayer(NeuralNetLayer):\n",
        "    def __init__(self):\n",
        "        super().__init__()\n",
        "\n",
        "    def forward(self, x):\n",
        "        self.gradient = np.where(x > 0, 1.0, 0.0)\n",
        "        return np.maximum(0, x)\n",
        "\n",
        "    def backward(self, gradient):\n",
        "        assert self.gradient is not None, \"Must call forward before backward\"\n",
        "        return gradient * self.gradient"
      ]
    },
    {
      "cell_type": "markdown",
      "source": [
        "Softmax activation function:"
      ],
      "metadata": {
        "id": "wpXImxC1jXyq"
      }
    },
    {
      "cell_type": "code",
      "execution_count": null,
      "metadata": {
        "id": "PF9ycGmjamAM"
      },
      "outputs": [],
      "source": [
        "class SoftmaxOutputLayer(NeuralNetLayer):\n",
        "    def __init__(self):\n",
        "        super().__init__()\n",
        "        self.cur_probs = None\n",
        "\n",
        "    def forward(self, x):\n",
        "        exps = np.exp(x-np.max(x,axis=-1,keepdims=True))\n",
        "        probs = exps / np.sum(exps, axis=-1)[:, None]\n",
        "        self.cur_probs = probs\n",
        "        return probs\n",
        "\n",
        "    def backward(self, target):\n",
        "        assert self.cur_probs is not None, \"Must call forward before backward\"\n",
        "        return self.cur_probs - target"
      ]
    },
    {
      "cell_type": "markdown",
      "source": [
        "TanH activation function:"
      ],
      "metadata": {
        "id": "4MODtIpYjn6j"
      }
    },
    {
      "cell_type": "code",
      "source": [
        "class TanHLayer(NeuralNetLayer):\n",
        "  def __init__(self):\n",
        "    super().__init__()\n",
        "\n",
        "  def forward(self, x):\n",
        "    exp_p = np.exp(x)\n",
        "    exp_n = np.exp(-x)\n",
        "    tanh =(exp_p - exp_n)/(exp_p + exp_n)\n",
        "    self.gradient = 1-tanh**2\n",
        "    return tanh\n",
        "\n",
        "  def backward(self, gradient):\n",
        "    assert self.gradient is not None, \"Must call forward before backward\"\n",
        "    return gradient*self.gradient"
      ],
      "metadata": {
        "id": "PwmkeWLojlHz"
      },
      "execution_count": null,
      "outputs": []
    },
    {
      "cell_type": "markdown",
      "source": [
        "Leaky ReLU activation function:"
      ],
      "metadata": {
        "id": "faX1SVwujt7C"
      }
    },
    {
      "cell_type": "code",
      "source": [
        "class LeakyReLU(NeuralNetLayer):\n",
        "  def __init__(self, alpha):\n",
        "    super().__init__()\n",
        "    self.alpha = alpha\n",
        "\n",
        "  def forward(self, x):\n",
        "    self.gradient = np.where(x>0,1.0,0.0) + self.alpha*np.where(x<0,1,0)\n",
        "    return np.maximum(x,0) + self.alpha*np.minimum(x,0)\n",
        "\n",
        "  def backward(self, gradient):\n",
        "    assert self.gradient is not None, \"Must call forward before backward\"\n",
        "    return gradient*self.gradient"
      ],
      "metadata": {
        "id": "hLUHclT7jmki"
      },
      "execution_count": null,
      "outputs": []
    },
    {
      "cell_type": "markdown",
      "source": [
        "Tie the architecture together with the MLP class:\n",
        "\n",
        "(Remember, the backpropagation algorithm serves the purpose of computing high-dimensional gradients via the chain rule. It is not in charge of updating the parameters -- this will be the job of the optimization algorithm which we will implement shortly)"
      ],
      "metadata": {
        "id": "F7NveeXYj4hb"
      }
    },
    {
      "cell_type": "code",
      "execution_count": null,
      "metadata": {
        "id": "N9crFpv8amAN"
      },
      "outputs": [],
      "source": [
        "class MLP:\n",
        "    def __init__(self, *args: List[NeuralNetLayer]):\n",
        "        self.layers = args\n",
        "\n",
        "    def forward(self, x):\n",
        "        for layer in self.layers:\n",
        "            x = layer.forward(x)\n",
        "        return x\n",
        "\n",
        "    def backward(self, target):\n",
        "        for layer in self.layers[::-1]:\n",
        "            target = layer.backward(target)\n",
        "\n",
        "\n",
        "    def gradient_check(self, x,y):\n",
        "      for layer in self.layers:\n",
        "          if isinstance(layer, LinearLayer):\n",
        "\n",
        "            diff = np.zeros((layer.no,layer.ni))\n",
        "            w = layer.w.copy()\n",
        "\n",
        "            for i in range(layer.no):\n",
        "              for j in range(layer.ni):\n",
        "\n",
        "                epsilon = np.zeros((layer.no,layer.ni))\n",
        "                epsilon[i, j] = np.random.rand()*1e-4\n",
        "\n",
        "                layer.w = layer.w + epsilon\n",
        "                yh1 = self.forward(x)\n",
        "                J1 = -(y * np.log(yh1)).sum(axis=-1).mean()\n",
        "                layer.w = w\n",
        "\n",
        "                layer.w = layer.w - epsilon\n",
        "                yh2 = self.forward(x)\n",
        "                J2 = -(y * np.log(yh2)).sum(axis=-1).mean()\n",
        "                layer.w = w\n",
        "\n",
        "                numeric_grad = (J1 - J2) / (2 * epsilon[i, j])\n",
        "                derived_grad = (layer.gradient[0].mean(axis=0))[i, j]\n",
        "                print(\"numeric gradient\", numeric_grad)\n",
        "                print(\"analytic gradient\", derived_grad)\n",
        "                diff[i, j] = np.square(derived_grad - numeric_grad) / np.square(derived_grad + numeric_grad)\n",
        "            print(\"Gradient comparation: \", diff)\n",
        "\n",
        "\n",
        "    def train(self, optimizer, data_x, data_y, steps, bs):\n",
        "      losses = []\n",
        "      labels = np.eye(10)[np.array(data_y)]\n",
        "      n=0  #simply to get a random array of indices so that we can have a non-bias sample of testing and training data\n",
        "      sample=data_x.shape[0]\n",
        "      for _ in tqdm(range(steps)):\n",
        "        permut=np.random.permutation(sample)\n",
        "        batches=sample/bs\n",
        "        i=0\n",
        "        for batch in range(1,int(batches)+1):\n",
        "          i+=1\n",
        "\n",
        "          x = data_x[permut[(batch-1)*bs:(batch*bs)],:]\n",
        "          y = labels[permut[(batch-1)*bs:(batch*bs)],:]\n",
        "          predictions = self.forward(x)\n",
        "\n",
        "\n",
        "          self.backward(y)\n",
        "          optimizer.step()\n",
        "          loss = -(y * np.log(predictions)).sum(axis=-1).mean()\n",
        "\n",
        "          losses.append(loss)\n",
        "\n",
        "      l = list(np.arange(len(losses)))\n",
        "      ticks = []\n",
        "      ticks_labels = []\n",
        "      for num in l:\n",
        "        if (num/batches).is_integer():\n",
        "          ticks.append(num)\n",
        "          ticks_labels.append(int(num/batches+1))\n",
        "      leaps = np.rint(len(ticks_labels)/10)\n",
        "      b = 0\n",
        "      graph_ticks = []\n",
        "      graph_ticks_labels = []\n",
        "      while b < len(ticks_labels):\n",
        "        graph_ticks.append(ticks[b])\n",
        "        graph_ticks_labels.append(ticks_labels[b])\n",
        "        b = b + leaps\n",
        "        if leaps==0:\n",
        "          break\n",
        "      fig = plt.figure()\n",
        "      ax = fig.add_axes([0, 0, 1, 1])\n",
        "      ax.plot(losses)\n",
        "      ax.set_xticks(graph_ticks)\n",
        "      ax.set_xticklabels(graph_ticks_labels)\n",
        "      plt.xlabel('Epoch')\n",
        "      plt.ylabel('Cross Entropy Loss')\n",
        "      plt.show()\n",
        "\n",
        "\n",
        "\n",
        "    def predict(self,input_da):\n",
        "      liste=[]\n",
        "      input_d=self.forward(input_da)\n",
        "      for row in input_d:\n",
        "        liste.append(np.argmax(row))\n",
        "\n",
        "      return np.array(liste)"
      ]
    },
    {
      "cell_type": "markdown",
      "source": [
        "The Abstract optimizer interface has the following functions:\n",
        "\n",
        "\n",
        "*   update: takes a set of parameters and a set of gradients, and uses the gradients to modify the parameters\n",
        "*   step: traverses over the layers of an MLP and applies update to each layer\n",
        "\n",
        "To make a new optimization algorithm, just make a subclass of Optimizer and implement the update method"
      ],
      "metadata": {
        "id": "CqPZAex0mNn1"
      }
    },
    {
      "cell_type": "code",
      "execution_count": null,
      "metadata": {
        "id": "qPPeP6aXamAN"
      },
      "outputs": [],
      "source": [
        "class Optimizer:\n",
        "    def __init__(self, net: MLP):\n",
        "        self.net = net\n",
        "\n",
        "    def step(self):\n",
        "        for layer in self.net.layers[::-1]:\n",
        "            if layer.parameters is not None:\n",
        "                self.update(layer.parameters, layer.gradient)\n",
        "\n",
        "    def update(self, params, gradient):\n",
        "        raise NotImplementedError\n",
        "\n",
        "\n",
        "class GradientDescentOptimizer(Optimizer):\n",
        "    def __init__(self, net: MLP, lr: float):\n",
        "        super().__init__(net)\n",
        "        self.lr = lr\n",
        "\n",
        "    def update(self, params, gradient):\n",
        "        for (p, g) in zip(params, gradient):\n",
        "            p -= self.lr * g.mean(axis=0)\n",
        "\n",
        "\n",
        "class GradientDescent_L2Regularized(Optimizer):                       # New class for L2 regularization\n",
        "    def __init__(self, net: MLP, lr: float, lambda_L2):\n",
        "        super().__init__(net)\n",
        "        self.lr = lr\n",
        "        self.lambda_L2 = lambda_L2\n",
        "\n",
        "    def update(self, params, gradient):\n",
        "        for (p, g) in zip(params, gradient):\n",
        "            p -= self.lr * g.mean(axis=0) + self.lambda_L2*p[0]"
      ]
    },
    {
      "cell_type": "markdown",
      "source": [
        "***TASK 3: Run The Experiments***"
      ],
      "metadata": {
        "id": "LsOlcZKhwQaf"
      }
    },
    {
      "cell_type": "markdown",
      "metadata": {
        "id": "7w2zIV0UamAP"
      },
      "source": [
        "Finding the optimal learning rate using a 2-layer MLP"
      ]
    },
    {
      "cell_type": "code",
      "source": [
        "HIDDEN_SIZE = 128\n",
        "GRADIENT_STEPS = 20\n",
        "n_features=train_I.shape[1]\n",
        "BATCH_SIZE = 32"
      ],
      "metadata": {
        "id": "AQYUds-zQMGF"
      },
      "execution_count": null,
      "outputs": []
    },
    {
      "cell_type": "code",
      "source": [
        "LEARN_RATES = [1, 1e-1, 1e-2, 1e-3]\n",
        "\n",
        "mlp2 = MLP(\n",
        "    LinearLayer(n_features, HIDDEN_SIZE),\n",
        "    ReLULayer(),\n",
        "    LinearLayer(HIDDEN_SIZE, HIDDEN_SIZE),\n",
        "    ReLULayer(),\n",
        "    LinearLayer(HIDDEN_SIZE, 10),\n",
        "    SoftmaxOutputLayer()\n",
        ")\n",
        "opt2 = GradientDescentOptimizer(mlp2, LEARN_RATES[0])\n",
        "\n",
        "mlp2.train(opt2, train_I, train_labels, GRADIENT_STEPS, BATCH_SIZE)\n",
        "\n",
        "yh=mlp2.predict(test_I)\n",
        "accLR1=(sum(yh==np.array(test_labels)))/yh.shape[0] * 100\n",
        "print(accLR1)"
      ],
      "metadata": {
        "colab": {
          "base_uri": "https://localhost:8080/",
          "height": 384
        },
        "id": "fYLPeuTvQzwG",
        "outputId": "70432498-465f-4fa2-b59f-1f7c20aaa9a4"
      },
      "execution_count": null,
      "outputs": [
        {
          "output_type": "stream",
          "name": "stderr",
          "text": [
            "100%|██████████| 20/20 [18:58<00:00, 56.92s/it]\n"
          ]
        },
        {
          "output_type": "display_data",
          "data": {
            "text/plain": [
              "<Figure size 432x288 with 1 Axes>"
            ],
            "image/png": "[encoded data removed]"
          },
          "metadata": {
            "needs_background": "light"
          }
        },
        {
          "output_type": "stream",
          "name": "stdout",
          "text": [
            "10.0\n"
          ]
        }
      ]
    },
    {
      "cell_type": "code",
      "source": [
        "mlp2 = MLP(\n",
        "    LinearLayer(n_features, HIDDEN_SIZE),\n",
        "    ReLULayer(),\n",
        "    LinearLayer(HIDDEN_SIZE, HIDDEN_SIZE),\n",
        "    ReLULayer(),\n",
        "    LinearLayer(HIDDEN_SIZE, 10),\n",
        "    SoftmaxOutputLayer()\n",
        ")\n",
        "opt2 = GradientDescentOptimizer(mlp2, LEARN_RATES[1])\n",
        "\n",
        "mlp2.train(opt2, train_I, train_labels, GRADIENT_STEPS, BATCH_SIZE)\n",
        "\n",
        "yh=mlp2.predict(test_I)\n",
        "accLR2=(sum(yh==np.array(test_labels)))/yh.shape[0] * 100\n",
        "print(accLR2)"
      ],
      "metadata": {
        "colab": {
          "base_uri": "https://localhost:8080/",
          "height": 384
        },
        "id": "KMhSr3-5RV9a",
        "outputId": "15989596-733c-4b93-e301-fc0bb7d3b0c3"
      },
      "execution_count": null,
      "outputs": [
        {
          "output_type": "stream",
          "name": "stderr",
          "text": [
            "100%|██████████| 20/20 [18:54<00:00, 56.70s/it]\n"
          ]
        },
        {
          "output_type": "display_data",
          "data": {
            "text/plain": [
              "<Figure size 432x288 with 1 Axes>"
            ],
            "image/png": "[encoded data removed]"
          },
          "metadata": {
            "needs_background": "light"
          }
        },
        {
          "output_type": "stream",
          "name": "stdout",
          "text": [
            "10.0\n"
          ]
        }
      ]
    },
    {
      "cell_type": "code",
      "source": [
        "mlp2 = MLP(\n",
        "    LinearLayer(n_features, HIDDEN_SIZE),\n",
        "    ReLULayer(),\n",
        "    LinearLayer(HIDDEN_SIZE, HIDDEN_SIZE),\n",
        "    ReLULayer(),\n",
        "    LinearLayer(HIDDEN_SIZE, 10),\n",
        "    SoftmaxOutputLayer()\n",
        ")\n",
        "opt2 = GradientDescentOptimizer(mlp2, LEARN_RATES[2])\n",
        "\n",
        "mlp2.train(opt2, train_I, train_labels, GRADIENT_STEPS, BATCH_SIZE)\n",
        "\n",
        "yh=mlp2.predict(test_I)\n",
        "accLR3=(sum(yh==np.array(test_labels)))/yh.shape[0] * 100\n",
        "print(accLR3)"
      ],
      "metadata": {
        "colab": {
          "base_uri": "https://localhost:8080/",
          "height": 384
        },
        "id": "m6_HSlhSR0oJ",
        "outputId": "3d35281f-1830-4c10-89cb-e8d5e75c9d66"
      },
      "execution_count": null,
      "outputs": [
        {
          "output_type": "stream",
          "name": "stderr",
          "text": [
            "100%|██████████| 20/20 [18:44<00:00, 56.23s/it]\n"
          ]
        },
        {
          "output_type": "display_data",
          "data": {
            "text/plain": [
              "<Figure size 432x288 with 1 Axes>"
            ],
            "image/png": "[encoded data removed]"
          },
          "metadata": {
            "needs_background": "light"
          }
        },
        {
          "output_type": "stream",
          "name": "stdout",
          "text": [
            "74.58\n"
          ]
        }
      ]
    },
    {
      "cell_type": "code",
      "source": [
        "mlp2 = MLP(\n",
        "    LinearLayer(n_features, HIDDEN_SIZE),\n",
        "    ReLULayer(),\n",
        "    LinearLayer(HIDDEN_SIZE, HIDDEN_SIZE),\n",
        "    ReLULayer(),\n",
        "    LinearLayer(HIDDEN_SIZE, 10),\n",
        "    SoftmaxOutputLayer()\n",
        ")\n",
        "opt2 = GradientDescentOptimizer(mlp2, LEARN_RATES[3])\n",
        "\n",
        "mlp2.train(opt2, train_I, train_labels, GRADIENT_STEPS, BATCH_SIZE)\n",
        "\n",
        "yh=mlp2.predict(test_I)\n",
        "accLR4=(sum(yh==np.array(test_labels)))/yh.shape[0] * 100\n",
        "print(accLR4)"
      ],
      "metadata": {
        "colab": {
          "base_uri": "https://localhost:8080/",
          "height": 384
        },
        "id": "WyLaitRaSCrn",
        "outputId": "96348476-9bbe-468f-e401-ace4ae1a8fc6"
      },
      "execution_count": null,
      "outputs": [
        {
          "output_type": "stream",
          "name": "stderr",
          "text": [
            "100%|██████████| 20/20 [18:43<00:00, 56.19s/it]\n"
          ]
        },
        {
          "output_type": "display_data",
          "data": {
            "text/plain": [
              "<Figure size 432x288 with 1 Axes>"
            ],
            "image/png": "[encoded data removed]"
          },
          "metadata": {
            "needs_background": "light"
          }
        },
        {
          "output_type": "stream",
          "name": "stdout",
          "text": [
            "77.14999999999999\n"
          ]
        }
      ]
    },
    {
      "cell_type": "markdown",
      "source": [
        "Comparing MLPs with different number of layers: Normalized Input Data"
      ],
      "metadata": {
        "id": "KgZg8E-tSITR"
      }
    },
    {
      "cell_type": "code",
      "source": [
        "LEARN_RATE = 1e-2"
      ],
      "metadata": {
        "id": "HvmgOm9lSiMC"
      },
      "execution_count": null,
      "outputs": []
    },
    {
      "cell_type": "code",
      "source": [
        "#0-layer MLP\n",
        "mlp0 = MLP(\n",
        "    LinearLayer(n_features, 10),\n",
        "    SoftmaxOutputLayer()\n",
        ")\n",
        "\n",
        "opt0 = GradientDescentOptimizer(mlp0, LEARN_RATE)\n",
        "\n",
        "mlp0.train(opt0, train_I, train_labels, GRADIENT_STEPS, BATCH_SIZE)\n",
        "yh = mlp0.predict(test_I)\n",
        "acc0=(sum(yh==np.array(test_labels)))/yh.shape[0] * 100\n",
        "print(acc0)"
      ],
      "metadata": {
        "colab": {
          "base_uri": "https://localhost:8080/",
          "height": 384
        },
        "id": "D2QG-phGSRuI",
        "outputId": "8a930be3-0246-401f-e2a3-da932b3d7cc0"
      },
      "execution_count": null,
      "outputs": [
        {
          "output_type": "stream",
          "name": "stderr",
          "text": [
            "100%|██████████| 20/20 [00:51<00:00,  2.55s/it]\n"
          ]
        },
        {
          "output_type": "display_data",
          "data": {
            "text/plain": [
              "<Figure size 432x288 with 1 Axes>"
            ],
            "image/png": "[encoded data removed]"
          },
          "metadata": {
            "needs_background": "light"
          }
        },
        {
          "output_type": "stream",
          "name": "stdout",
          "text": [
            "76.81\n"
          ]
        }
      ]
    },
    {
      "cell_type": "code",
      "source": [
        "#1-layer MLP\n",
        "mlp1 = MLP(\n",
        "    LinearLayer(n_features, HIDDEN_SIZE),\n",
        "    ReLULayer(),\n",
        "    LinearLayer(HIDDEN_SIZE, 10),\n",
        "    SoftmaxOutputLayer()\n",
        ")\n",
        "opt1 = GradientDescentOptimizer(mlp1, LEARN_RATE)\n",
        "\n",
        "mlp1.train(opt1, train_I, train_labels, GRADIENT_STEPS, BATCH_SIZE)\n",
        "yh=mlp1.predict(test_I)\n",
        "acc1=(sum(yh==np.array(test_labels)))/yh.shape[0] * 100\n",
        "print(acc1)\n",
        "\n",
        "#2-layer MLP with chosen learning rate is shown in the learning-rate selection protcol"
      ],
      "metadata": {
        "colab": {
          "base_uri": "https://localhost:8080/",
          "height": 384
        },
        "id": "eQvkbG6VS64f",
        "outputId": "f1d8506f-4832-49df-982a-f183d6c08a61"
      },
      "execution_count": null,
      "outputs": [
        {
          "output_type": "stream",
          "name": "stderr",
          "text": [
            "100%|██████████| 20/20 [16:33<00:00, 49.67s/it]\n"
          ]
        },
        {
          "output_type": "display_data",
          "data": {
            "text/plain": [
              "<Figure size 432x288 with 1 Axes>"
            ],
            "image/png": "[encoded data removed]"
          },
          "metadata": {
            "needs_background": "light"
          }
        },
        {
          "output_type": "stream",
          "name": "stdout",
          "text": [
            "78.77\n"
          ]
        }
      ]
    },
    {
      "cell_type": "code",
      "source": [
        "#Plotting the results\n",
        "fig = plt.figure()\n",
        "ax = fig.add_axes([0,0,1,1])\n",
        "mlp_types = ['0-layer', '1-layer', '2-layer']\n",
        "accuracies = [acc0, acc1, accLR3]\n",
        "ax.bar(mlp_types, accuracies,align='center',color=c[0])\n",
        "plt.xlabel('MLP type')\n",
        "plt.ylabel('Percent Accuracy')\n",
        "plt.show()"
      ],
      "metadata": {
        "colab": {
          "base_uri": "https://localhost:8080/",
          "height": 350
        },
        "id": "8uPsHhDETnXF",
        "outputId": "613e2da6-0b25-4b52-a4b3-ea0c0593a1a8"
      },
      "execution_count": null,
      "outputs": [
        {
          "output_type": "display_data",
          "data": {
            "text/plain": [
              "<Figure size 432x288 with 1 Axes>"
            ],
            "image/png": "[encoded data removed]"
          },
          "metadata": {
            "needs_background": "light"
          }
        }
      ]
    },
    {
      "cell_type": "markdown",
      "source": [
        "Comparing MLPs with different number of layers: Unnormalized Input Data"
      ],
      "metadata": {
        "id": "2TqCwXQ1TuVK"
      }
    },
    {
      "cell_type": "code",
      "source": [
        "#Calling the data\n",
        "fashion_mnist=tf.keras.datasets.fashion_mnist\n",
        "(train_images,train_labels),(test_images,test_labels)=fashion_mnist.load_data()\n",
        "train_I1=flatten(train_images)\n",
        "test_I1=flatten(test_images)"
      ],
      "metadata": {
        "id": "8RX_YV5STyxR"
      },
      "execution_count": null,
      "outputs": []
    },
    {
      "cell_type": "code",
      "source": [
        "mlp0 = MLP(\n",
        "    LinearLayer(n_features, 10),\n",
        "    SoftmaxOutputLayer()\n",
        ")\n",
        "\n",
        "\n",
        "\n",
        "mlp1 = MLP(\n",
        "    LinearLayer(n_features, HIDDEN_SIZE),\n",
        "    ReLULayer(),\n",
        "    LinearLayer(HIDDEN_SIZE, 10),\n",
        "    SoftmaxOutputLayer()\n",
        ")\n",
        "\n",
        "mlp2 = MLP(\n",
        "    LinearLayer(n_features, HIDDEN_SIZE),\n",
        "    ReLULayer(),\n",
        "    LinearLayer(HIDDEN_SIZE, HIDDEN_SIZE),\n",
        "    ReLULayer(),\n",
        "    LinearLayer(HIDDEN_SIZE, 10),\n",
        "    SoftmaxOutputLayer()\n",
        ")\n",
        "\n",
        "opt0 = GradientDescentOptimizer(mlp0, LEARN_RATE)\n",
        "opt1 = GradientDescentOptimizer(mlp1, LEARN_RATE)\n",
        "opt2 = GradientDescentOptimizer(mlp2, LEARN_RATE)\n",
        "\n",
        "mlp0.train(opt0, train_I1, train_labels, GRADIENT_STEPS, BATCH_SIZE)\n",
        "mlp1.train(opt1, train_I1, train_labels, GRADIENT_STEPS, BATCH_SIZE)\n",
        "mlp2.train(opt2, train_I1, train_labels, GRADIENT_STEPS, BATCH_SIZE)\n",
        "\n",
        "yh0=mlp0.predict(test_I1)\n",
        "yh1=mlp1.predict(test_I1)\n",
        "yh2=mlp2.predict(test_I1)\n",
        "\n",
        "acc0=(sum(yh0==np.array(test_labels)))/yh0.shape[0] * 100\n",
        "acc1=(sum(yh1==np.array(test_labels)))/yh1.shape[0] * 100\n",
        "acc2=(sum(yh2==np.array(test_labels)))/yh2.shape[0] * 100"
      ],
      "metadata": {
        "colab": {
          "base_uri": "https://localhost:8080/",
          "height": 1000
        },
        "id": "l04gX0LAT8ZK",
        "outputId": "4265fe19-a304-4a6d-c39f-f02c646f4eb1"
      },
      "execution_count": null,
      "outputs": [
        {
          "output_type": "stream",
          "name": "stderr",
          "text": [
            "100%|██████████| 20/20 [00:51<00:00,  2.59s/it]\n"
          ]
        },
        {
          "output_type": "display_data",
          "data": {
            "text/plain": [
              "<Figure size 432x288 with 1 Axes>"
            ],
            "image/png": "[encoded data removed]"
          },
          "metadata": {
            "needs_background": "light"
          }
        },
        {
          "output_type": "stream",
          "name": "stderr",
          "text": [
            "100%|██████████| 20/20 [15:05<00:00, 45.29s/it]\n"
          ]
        },
        {
          "output_type": "display_data",
          "data": {
            "text/plain": [
              "<Figure size 432x288 with 1 Axes>"
            ],
            "image/png": "[encoded data removed]"
          },
          "metadata": {
            "needs_background": "light"
          }
        },
        {
          "output_type": "stream",
          "name": "stderr",
          "text": [
            "100%|██████████| 20/20 [17:43<00:00, 53.19s/it]\n"
          ]
        },
        {
          "output_type": "display_data",
          "data": {
            "text/plain": [
              "<Figure size 432x288 with 1 Axes>"
            ],
            "image/png": "[encoded data removed]"
          },
          "metadata": {
            "needs_background": "light"
          }
        }
      ]
    },
    {
      "cell_type": "code",
      "source": [
        "#Plotting the results\n",
        "fig = plt.figure()\n",
        "ax = fig.add_axes([0,0,1,1])\n",
        "mlp_types = ['0-layer', '1-layer', '2-layer']\n",
        "accuracies = [acc0, acc1, acc2]\n",
        "ax.bar(mlp_types, accuracies,align='center',color=c[0])\n",
        "plt.xlabel('MLP type')\n",
        "plt.ylabel('Percent Accuracy')\n",
        "plt.show()"
      ],
      "metadata": {
        "colab": {
          "base_uri": "https://localhost:8080/",
          "height": 350
        },
        "id": "-WEiTarSU_wZ",
        "outputId": "68e4ff46-bc23-4a1f-8332-c4432b38536e"
      },
      "execution_count": null,
      "outputs": [
        {
          "output_type": "display_data",
          "data": {
            "text/plain": [
              "<Figure size 432x288 with 1 Axes>"
            ],
            "image/png": "[encoded data removed]"
          },
          "metadata": {
            "needs_background": "light"
          }
        }
      ]
    },
    {
      "cell_type": "markdown",
      "source": [
        "Comparing a 2-layer MLP to a ConvNet"
      ],
      "metadata": {
        "id": "4SwmL9mUQale"
      }
    },
    {
      "cell_type": "code",
      "source": [
        "import tensorflow as tf\n",
        "import numpy as np\n",
        "from tensorflow import keras"
      ],
      "metadata": {
        "id": "Qdr852LTNTpX"
      },
      "execution_count": null,
      "outputs": []
    },
    {
      "cell_type": "code",
      "source": [
        "model=keras.models.Sequential([\n",
        "    keras.layers.Conv2D(64,(3,3), activation='relu', input_shape=(28,28,1)),\n",
        "    keras.layers.MaxPooling2D(2,2),\n",
        "    keras.layers.Conv2D(64,(3,3), activation='relu'),\n",
        "    keras.layers.MaxPooling2D(2,2),\n",
        "    keras.layers.Flatten(),\n",
        "    keras.layers.Dense(128, activation=tf.nn.relu),\n",
        "    keras.layers.Dense(128, activation=tf.nn.relu),\n",
        "    keras.layers.Dense(10, activation=tf.nn.softmax)\n",
        "])"
      ],
      "metadata": {
        "id": "6YioSPfVNKnw"
      },
      "execution_count": null,
      "outputs": []
    },
    {
      "cell_type": "code",
      "source": [
        "model.summary()"
      ],
      "metadata": {
        "id": "NWwIPTvqNYJM",
        "colab": {
          "base_uri": "https://localhost:8080/"
        },
        "outputId": "64a32adf-993d-4142-dc7c-55dd43485539"
      },
      "execution_count": null,
      "outputs": [
        {
          "output_type": "stream",
          "name": "stdout",
          "text": [
            "Model: \"sequential\"\n",
            "_________________________________________________________________\n",
            " Layer (type)                Output Shape              Param #   \n",
            "=================================================================\n",
            " conv2d (Conv2D)             (None, 26, 26, 64)        640       \n",
            "                                                                 \n",
            " max_pooling2d (MaxPooling2D  (None, 13, 13, 64)       0         \n",
            " )                                                               \n",
            "                                                                 \n",
            " conv2d_1 (Conv2D)           (None, 11, 11, 64)        36928     \n",
            "                                                                 \n",
            " max_pooling2d_1 (MaxPooling  (None, 5, 5, 64)         0         \n",
            " 2D)                                                             \n",
            "                                                                 \n",
            " flatten (Flatten)           (None, 1600)              0         \n",
            "                                                                 \n",
            " dense (Dense)               (None, 128)               204928    \n",
            "                                                                 \n",
            " dense_1 (Dense)             (None, 128)               16512     \n",
            "                                                                 \n",
            " dense_2 (Dense)             (None, 10)                1290      \n",
            "                                                                 \n",
            "=================================================================\n",
            "Total params: 260,298\n",
            "Trainable params: 260,298\n",
            "Non-trainable params: 0\n",
            "_________________________________________________________________\n"
          ]
        }
      ]
    },
    {
      "cell_type": "code",
      "source": [
        "model.compile(optimizer='adam', loss='sparse_categorical_crossentropy', metrics=['accuracy'])\n",
        "model.save_weights('model.h5')"
      ],
      "metadata": {
        "id": "CIWTi1fRNbBv"
      },
      "execution_count": null,
      "outputs": []
    },
    {
      "cell_type": "code",
      "source": [
        "history=model.fit(train_images1,train_labels, epochs=5)"
      ],
      "metadata": {
        "colab": {
          "base_uri": "https://localhost:8080/"
        },
        "id": "5F3Qs8hqGUK9",
        "outputId": "2b26c033-2920-4947-c3cb-68be05be3f66"
      },
      "execution_count": null,
      "outputs": [
        {
          "output_type": "stream",
          "name": "stdout",
          "text": [
            "Epoch 1/5\n",
            "1875/1875 [==============================] - 110s 58ms/step - loss: 0.4633 - accuracy: 0.8293\n",
            "Epoch 2/5\n",
            "1875/1875 [==============================] - 105s 56ms/step - loss: 0.3040 - accuracy: 0.8885\n",
            "Epoch 3/5\n",
            "1875/1875 [==============================] - 104s 56ms/step - loss: 0.2544 - accuracy: 0.9053\n",
            "Epoch 4/5\n",
            "1875/1875 [==============================] - 106s 56ms/step - loss: 0.2205 - accuracy: 0.9176\n",
            "Epoch 5/5\n",
            "1875/1875 [==============================] - 104s 55ms/step - loss: 0.1964 - accuracy: 0.9260\n"
          ]
        }
      ]
    },
    {
      "cell_type": "code",
      "source": [
        "test_loss=model.evaluate(test_images1,test_labels)"
      ],
      "metadata": {
        "id": "FhxpSHrvNcQH",
        "colab": {
          "base_uri": "https://localhost:8080/"
        },
        "outputId": "a44a4fb4-2a46-4aee-ba52-ae96d3f34281"
      },
      "execution_count": null,
      "outputs": [
        {
          "output_type": "stream",
          "name": "stdout",
          "text": [
            "313/313 [==============================] - 6s 20ms/step - loss: 0.2455 - accuracy: 0.9139\n"
          ]
        }
      ]
    },
    {
      "cell_type": "markdown",
      "source": [
        "Displaying and Plotting Training Accuracy"
      ],
      "metadata": {
        "id": "Lb37B4D-kt3X"
      }
    },
    {
      "cell_type": "code",
      "source": [
        "plt.plot(history.history['accuracy'])"
      ],
      "metadata": {
        "id": "R4bzpsO8ktR4",
        "colab": {
          "base_uri": "https://localhost:8080/",
          "height": 282
        },
        "outputId": "15f42837-15ae-4391-ddf4-ad09eb309c0e"
      },
      "execution_count": null,
      "outputs": [
        {
          "output_type": "execute_result",
          "data": {
            "text/plain": [
              "[<matplotlib.lines.Line2D at 0x7fb71fa31430>]"
            ]
          },
          "metadata": {},
          "execution_count": 21
        },
        {
          "output_type": "display_data",
          "data": {
            "text/plain": [
              "<Figure size 432x288 with 1 Axes>"
            ],
            "image/png": "[encoded data removed]"
          },
          "metadata": {
            "needs_background": "light"
          }
        }
      ]
    },
    {
      "cell_type": "markdown",
      "source": [
        "Building and Training a 2 Layers MLP\n",
        "\n",
        "(Using TanH)"
      ],
      "metadata": {
        "id": "saNWQJKJnq83"
      }
    },
    {
      "cell_type": "code",
      "source": [
        "mlp3 = MLP(\n",
        "    LinearLayer(n_features, HIDDEN_SIZE),\n",
        "    TanHLayer(),\n",
        "    LinearLayer(HIDDEN_SIZE, HIDDEN_SIZE),\n",
        "    TanHLayer(),\n",
        "    LinearLayer(HIDDEN_SIZE, 10),\n",
        "    SoftmaxOutputLayer()\n",
        ")\n",
        "\n",
        "opt3 = GradientDescentOptimizer(mlp3, 1e-2)\n",
        "\n",
        "mlp3.train(opt3, train_I, train_labels, GRADIENT_STEPS,32)\n",
        "yh3 = mlp3.predict(test_I)\n",
        "acc = sum(yh3 == np.array(test_labels))\n",
        "accuracy = acc/yh3.shape[0]\n",
        "print(accuracy)"
      ],
      "metadata": {
        "colab": {
          "base_uri": "https://localhost:8080/",
          "height": 385
        },
        "id": "o4Re6UWAn3wg",
        "outputId": "d0a77c06-0288-4f4b-d2f9-84f1bcd6d2b9"
      },
      "execution_count": null,
      "outputs": [
        {
          "output_type": "stream",
          "name": "stderr",
          "text": [
            "100%|██████████| 20/20 [18:33<00:00, 55.70s/it]\n"
          ]
        },
        {
          "output_type": "display_data",
          "data": {
            "text/plain": [
              "<Figure size 432x288 with 1 Axes>"
            ],
            "image/png": "[encoded data removed]"
          },
          "metadata": {
            "needs_background": "light"
          }
        },
        {
          "output_type": "stream",
          "name": "stdout",
          "text": [
            "0.7617\n"
          ]
        }
      ]
    },
    {
      "cell_type": "markdown",
      "source": [
        "Same as above but with 100 epochs (using TanH):\n",
        "\n",
        "---\n",
        "\n"
      ],
      "metadata": {
        "id": "j01fqTxZqNMO"
      }
    },
    {
      "cell_type": "code",
      "source": [
        "mlp8 = MLP(\n",
        "    LinearLayer(n_features, HIDDEN_SIZE),\n",
        "    TanHLayer(),\n",
        "    LinearLayer(HIDDEN_SIZE, HIDDEN_SIZE),\n",
        "    TanHLayer(),\n",
        "    LinearLayer(HIDDEN_SIZE, 10),\n",
        "    SoftmaxOutputLayer()\n",
        ")\n",
        "\n",
        "opt8 = GradientDescentOptimizer(mlp8, 1e-2)\n",
        "mlp8.train(opt8, train_I, train_labels,100, 32)\n",
        "yh8 = mlp8.predict(test_I)\n",
        "acc = sum(yh8 == np.array(test_labels))\n",
        "accuracy = acc/yh8.shape[0]\n",
        "print(accuracy)"
      ],
      "metadata": {
        "colab": {
          "base_uri": "https://localhost:8080/",
          "height": 385
        },
        "id": "2eCiB6rUqWCz",
        "outputId": "62be7a11-7928-4f3f-b27d-3c400d1c7382"
      },
      "execution_count": null,
      "outputs": [
        {
          "output_type": "stream",
          "name": "stderr",
          "text": [
            "100%|██████████| 100/100 [03:05<00:00,  1.85s/it]\n"
          ]
        },
        {
          "output_type": "display_data",
          "data": {
            "text/plain": [
              "<Figure size 432x288 with 1 Axes>"
            ],
            "image/png": "[encoded data removed]"
          },
          "metadata": {
            "needs_background": "light"
          }
        },
        {
          "output_type": "stream",
          "name": "stdout",
          "text": [
            "0.6556\n"
          ]
        }
      ]
    },
    {
      "cell_type": "markdown",
      "source": [
        "Building and Training a 2 Layers MLP\n",
        "\n",
        "(Using Leaky-ReLU)"
      ],
      "metadata": {
        "id": "RpMASkTEn-5M"
      }
    },
    {
      "cell_type": "code",
      "source": [
        "mlp4 = MLP(\n",
        "    LinearLayer(n_features, HIDDEN_SIZE),\n",
        "    LeakyReLU(1/2),\n",
        "    LinearLayer(HIDDEN_SIZE, HIDDEN_SIZE),\n",
        "    LeakyReLU(1/2),\n",
        "    LinearLayer(HIDDEN_SIZE, 10),\n",
        "    SoftmaxOutputLayer()\n",
        ")\n",
        "\n",
        "opt4 = GradientDescentOptimizer(mlp4, 1e-2)\n",
        "mlp4.train(opt4, train_I, train_labels, GRADIENT_STEPS,32)\n",
        "yh4 = mlp4.predict(test_I)\n",
        "acc = sum(yh4 == np.array(test_labels))\n",
        "accuracy = acc/yh4.shape[0]\n",
        "print(accuracy)"
      ],
      "metadata": {
        "colab": {
          "base_uri": "https://localhost:8080/",
          "height": 385
        },
        "id": "ew6mh_R3oRYc",
        "outputId": "aafe26d6-938b-4536-c201-cf27f1247b48"
      },
      "execution_count": null,
      "outputs": [
        {
          "output_type": "stream",
          "name": "stderr",
          "text": [
            "100%|██████████| 20/20 [19:10<00:00, 57.50s/it]\n"
          ]
        },
        {
          "output_type": "display_data",
          "data": {
            "text/plain": [
              "<Figure size 432x288 with 1 Axes>"
            ],
            "image/png": "[encoded data removed]"
          },
          "metadata": {
            "needs_background": "light"
          }
        },
        {
          "output_type": "stream",
          "name": "stdout",
          "text": [
            "0.8016\n"
          ]
        }
      ]
    },
    {
      "cell_type": "markdown",
      "source": [
        "Same as above but with 100 epochs (using LeakyReLU):"
      ],
      "metadata": {
        "id": "_b_IRVEHiYxK"
      }
    },
    {
      "cell_type": "code",
      "source": [
        "mlp9 = MLP(\n",
        "    LinearLayer(n_features, HIDDEN_SIZE),\n",
        "    LeakyReLU(1/2),\n",
        "    LinearLayer(HIDDEN_SIZE, HIDDEN_SIZE),\n",
        "    LeakyReLU(1/2),\n",
        "    LinearLayer(HIDDEN_SIZE, 10),\n",
        "    SoftmaxOutputLayer()\n",
        ")\n",
        "\n",
        "opt9 = GradientDescentOptimizer(mlp9, 1e-2)\n",
        "mlp9.train(opt9, train_I, train_labels,100, 32)\n",
        "yh9 = mlp9.predict(test_I)\n",
        "acc = sum(yh9 == np.array(test_labels))\n",
        "accuracy = acc/yh9.shape[0]\n",
        "print(accuracy)"
      ],
      "metadata": {
        "colab": {
          "base_uri": "https://localhost:8080/",
          "height": 385
        },
        "id": "rQOUmtdNid1t",
        "outputId": "f6fc947e-433b-4bcf-d0fb-ac1e493f16d6"
      },
      "execution_count": null,
      "outputs": [
        {
          "output_type": "stream",
          "name": "stderr",
          "text": [
            "100%|██████████| 100/100 [1:32:14<00:00, 55.35s/it]\n"
          ]
        },
        {
          "output_type": "display_data",
          "data": {
            "text/plain": [
              "<Figure size 432x288 with 1 Axes>"
            ],
            "image/png": "[encoded data removed]"
          },
          "metadata": {
            "needs_background": "light"
          }
        },
        {
          "output_type": "stream",
          "name": "stdout",
          "text": [
            "0.8168\n"
          ]
        }
      ]
    },
    {
      "cell_type": "markdown",
      "source": [
        "L2 Regularization on a 2 layer ReLU Neural Network"
      ],
      "metadata": {
        "id": "OsbKwqsxoVHI"
      }
    },
    {
      "cell_type": "code",
      "source": [
        "HIDDEN_SIZE = 128\n",
        "GRADIENT_STEPS = 20\n",
        "n_features = 784\n",
        "\n",
        "mlp5 = MLP(\n",
        "    LinearLayer(n_features, HIDDEN_SIZE),\n",
        "    ReLULayer(),\n",
        "    LinearLayer(HIDDEN_SIZE, HIDDEN_SIZE),\n",
        "    ReLULayer(),\n",
        "    LinearLayer(HIDDEN_SIZE, 10),\n",
        "    SoftmaxOutputLayer()\n",
        ")\n",
        "\n",
        "opt5 = GradientDescent_L2Regularized(mlp5, 1e-2, lambda_L2=1/2)\n",
        "\n",
        "mlp5.train(opt5, train_I, train_labels, GRADIENT_STEPS, 32)\n",
        "yh = mlp5.predict(test_I)\n",
        "acc = sum(yh == np.array(test_labels))\n",
        "accuracy = acc/yh.shape[0]\n",
        "print(accuracy)"
      ],
      "metadata": {
        "colab": {
          "base_uri": "https://localhost:8080/",
          "height": 385
        },
        "id": "39K-UoLmoWpb",
        "outputId": "9da5f20d-b70d-4442-bb5e-04a62be0ba4e"
      },
      "execution_count": null,
      "outputs": [
        {
          "output_type": "stream",
          "name": "stderr",
          "text": [
            "100%|██████████| 20/20 [18:54<00:00, 56.72s/it]\n"
          ]
        },
        {
          "output_type": "display_data",
          "data": {
            "text/plain": [
              "<Figure size 432x288 with 1 Axes>"
            ],
            "image/png": "[encoded data removed]"
          },
          "metadata": {
            "needs_background": "light"
          }
        },
        {
          "output_type": "stream",
          "name": "stdout",
          "text": [
            "0.1\n"
          ]
        }
      ]
    },
    {
      "cell_type": "markdown",
      "source": [
        "For Task 3, question 6:\n",
        "The model used was the following, but parameters of the model were modified to fit the architectural parameters showed in Table 1 in the report for testing.\n",
        "\n",
        "The best models were the 1-layer MLP and 2-layer MLP"
      ],
      "metadata": {
        "id": "iCiz1SHVNfsM"
      }
    },
    {
      "cell_type": "code",
      "source": [
        "HIDDEN_SIZE = 128\n",
        "GRADIENT_STEPS = 100\n",
        "n_features=train_I.shape[1]\n",
        "\n",
        "mlp1 = MLP(\n",
        "    LinearLayer(n_features, HIDDEN_SIZE),\n",
        "    ReLULayer(),\n",
        "    LinearLayer(HIDDEN_SIZE, 10),\n",
        "    SoftmaxOutputLayer()\n",
        ")\n",
        "opt1 = GradientDescentOptimizer(mlp1, 1e-2)\n",
        "\n",
        "mlp1.train(opt1, train_I, train_labels, GRADIENT_STEPS,32)\n",
        "yh=mlp1.predict(test_I)\n",
        "acc=sum(yh==np.array(test_labels))\n",
        "accuracy=acc/yh.shape[0]\n",
        "print(accuracy)"
      ],
      "metadata": {
        "id": "vxFjDmFrNE-Q"
      },
      "execution_count": null,
      "outputs": []
    },
    {
      "cell_type": "code",
      "source": [
        "HIDDEN_SIZE=128\n",
        "mlp2 = MLP(\n",
        "    LinearLayer(n_features, 128),\n",
        "    ReLULayer(),\n",
        "    LinearLayer(128, HIDDEN_SIZE),\n",
        "    ReLULayer(),\n",
        "    LinearLayer(HIDDEN_SIZE, 10),\n",
        "    SoftmaxOutputLayer()\n",
        ")\n",
        "opt2 = GradientDescentOptimizer(mlp2, 1e-2)\n",
        "\n",
        "mlp2.train(opt2, train_I, train_labels, 100,32)\n",
        "yh=mlp2.predict(test_I)\n",
        "print(test_labels)\n",
        "print(yh)\n",
        "acc=sum(yh==np.array(test_labels))\n",
        "accuracy=acc/yh.shape[0]\n",
        "print(accuracy)"
      ],
      "metadata": {
        "id": "6hAd-u9yOdZN"
      },
      "execution_count": null,
      "outputs": []
    },
    {
      "cell_type": "markdown",
      "source": [
        "FURTHER RESEARCH: vary the number of hidden units:"
      ],
      "metadata": {
        "id": "1BHucA6XobYC"
      }
    },
    {
      "cell_type": "markdown",
      "source": [
        "With only 5 hidden units:\n",
        "\n",
        "(this is significantly faster and still has a high accuracy so there is a trade-off)"
      ],
      "metadata": {
        "id": "I7worzU9oiWu"
      }
    },
    {
      "cell_type": "code",
      "source": [
        "HIDDEN_SIZE = 5\n",
        "GRADIENT_STEPS = 50\n",
        "n_features = 784\n",
        "batchSize = 32\n",
        "\n",
        "mlp6 = MLP(\n",
        "    LinearLayer(n_features, HIDDEN_SIZE),\n",
        "    ReLULayer(),\n",
        "    LinearLayer(HIDDEN_SIZE, 10),\n",
        "    SoftmaxOutputLayer()\n",
        ")\n",
        "\n",
        "opt6 = GradientDescentOptimizer(mlp6, 1e-2)\n",
        "\n",
        "mlp6.train(opt6, train_I, train_labels, GRADIENT_STEPS, batchSize)\n",
        "yh = mlp6.predict(test_I)\n",
        "acc = sum(yh == np.array(test_labels))\n",
        "accuracy = acc/yh.shape[0]\n",
        "print(accuracy)"
      ],
      "metadata": {
        "colab": {
          "base_uri": "https://localhost:8080/",
          "height": 385
        },
        "id": "5p4GDa6OohFc",
        "outputId": "55338bb2-1cb5-496e-ec91-af998b2387d0"
      },
      "execution_count": null,
      "outputs": [
        {
          "output_type": "stream",
          "name": "stderr",
          "text": [
            "100%|██████████| 50/50 [01:23<00:00,  1.67s/it]\n"
          ]
        },
        {
          "output_type": "display_data",
          "data": {
            "text/plain": [
              "<Figure size 432x288 with 1 Axes>"
            ],
            "image/png": "[encoded data removed]"
          },
          "metadata": {
            "needs_background": "light"
          }
        },
        {
          "output_type": "stream",
          "name": "stdout",
          "text": [
            "0.4807\n"
          ]
        }
      ]
    },
    {
      "cell_type": "markdown",
      "source": [
        "Same model as above (with 5 hidden units) but with 2 layers:"
      ],
      "metadata": {
        "id": "DdcgNNOrk4tL"
      }
    },
    {
      "cell_type": "code",
      "source": [
        "HIDDEN_SIZE = 5\n",
        "GRADIENT_STEPS = 50\n",
        "n_features = 784\n",
        "batchSize = 32\n",
        "\n",
        "mlp6 = MLP(\n",
        "    LinearLayer(n_features, HIDDEN_SIZE),\n",
        "    ReLULayer(),\n",
        "    LinearLayer(HIDDEN_SIZE, HIDDEN_SIZE),\n",
        "    ReLULayer(),\n",
        "    LinearLayer(HIDDEN_SIZE, 10),\n",
        "    SoftmaxOutputLayer()\n",
        ")\n",
        "\n",
        "opt6 = GradientDescentOptimizer(mlp6, 1e-2)\n",
        "\n",
        "mlp6.train(opt6, train_I, train_labels, GRADIENT_STEPS, batchSize)\n",
        "yh = mlp6.predict(test_I)\n",
        "acc = sum(yh == np.array(test_labels))\n",
        "accuracy = acc/yh.shape[0]\n",
        "print(accuracy)"
      ],
      "metadata": {
        "colab": {
          "base_uri": "https://localhost:8080/",
          "height": 385
        },
        "id": "5ZKfh76hkp3c",
        "outputId": "f918720b-956f-4dba-e1cc-7b831a5daaa2"
      },
      "execution_count": null,
      "outputs": [
        {
          "output_type": "stream",
          "name": "stderr",
          "text": [
            "100%|██████████| 50/50 [01:30<00:00,  1.81s/it]\n"
          ]
        },
        {
          "output_type": "display_data",
          "data": {
            "text/plain": [
              "<Figure size 432x288 with 1 Axes>"
            ],
            "image/png": "[encoded data removed]"
          },
          "metadata": {
            "needs_background": "light"
          }
        },
        {
          "output_type": "stream",
          "name": "stdout",
          "text": [
            "0.4094\n"
          ]
        }
      ]
    },
    {
      "cell_type": "markdown",
      "source": [
        "With 50 hidden units:\n",
        "\n",
        "(this seems like a good trade-off, we are at 2 percents away from the accuracy of the 50 hidden units layer but it takes much less time)"
      ],
      "metadata": {
        "id": "FvrgtNFKopi7"
      }
    },
    {
      "cell_type": "code",
      "source": [
        "HIDDEN_SIZE = 25\n",
        "GRADIENT_STEPS = 50\n",
        "n_features = 784\n",
        "batchSize = 128\n",
        "\n",
        "mlp7 = MLP(\n",
        "    LinearLayer(n_features, HIDDEN_SIZE),\n",
        "    ReLULayer(),\n",
        "    LinearLayer(HIDDEN_SIZE, 10),\n",
        "    SoftmaxOutputLayer()\n",
        ")\n",
        "\n",
        "opt7 = GradientDescentOptimizer(mlp7, 1e-2)\n",
        "\n",
        "mlp7.train(opt7, train_I, train_labels, GRADIENT_STEPS,batchSize)\n",
        "yh = mlp7.predict(test_I)\n",
        "acc = sum(yh == np.array(test_labels))\n",
        "accuracy = acc/yh.shape[0]\n",
        "print(accuracy)"
      ],
      "metadata": {
        "colab": {
          "base_uri": "https://localhost:8080/",
          "height": 385
        },
        "id": "6IBobNKootKQ",
        "outputId": "761cab4b-bc58-44ef-ea75-b59e42349fd1"
      },
      "execution_count": null,
      "outputs": [
        {
          "output_type": "stream",
          "name": "stderr",
          "text": [
            "100%|██████████| 50/50 [07:48<00:00,  9.38s/it]\n"
          ]
        },
        {
          "output_type": "display_data",
          "data": {
            "text/plain": [
              "<Figure size 432x288 with 1 Axes>"
            ],
            "image/png": "[encoded data removed]"
          },
          "metadata": {
            "needs_background": "light"
          }
        },
        {
          "output_type": "stream",
          "name": "stdout",
          "text": [
            "0.7135\n"
          ]
        }
      ]
    },
    {
      "cell_type": "markdown",
      "source": [
        "Comparing the testing accuracies for MLP models by varying the dataset size for training."
      ],
      "metadata": {
        "id": "nrJgRiBHPTPP"
      }
    },
    {
      "cell_type": "code",
      "source": [
        "#to obtain different quantities of images\n",
        "print(train_labels.shape)\n",
        "N,D=train_I.shape\n",
        "permut=np.random.permutation(N)\n",
        "\n",
        "trainI_6=train_I[permut[:6],:]\n",
        "print(trainI_6.shape)\n",
        "trainI_60=train_I[permut[:60],:]\n",
        "trainI_600=train_I[permut[:600],:]\n",
        "trainI_6000=train_I[permut[:6000],:]\n",
        "trainI_60000=train_I\n",
        "\n",
        "train_l6=train_labels[permut[:6]]\n",
        "train_l60=train_labels[permut[:60]]\n",
        "train_l600=train_labels[permut[:600]]\n",
        "train_l6000=train_labels[permut[:6000]]\n",
        "train_l60000=train_labels\n"
      ],
      "metadata": {
        "colab": {
          "base_uri": "https://localhost:8080/"
        },
        "id": "Rbn9OgRo5JqY",
        "outputId": "78fc06b3-2113-41da-b346-159d1f904621"
      },
      "execution_count": null,
      "outputs": [
        {
          "output_type": "stream",
          "name": "stdout",
          "text": [
            "(60000,)\n",
            "(6, 784)\n"
          ]
        }
      ]
    },
    {
      "cell_type": "code",
      "source": [
        "HIDDEN_SIZE=128\n",
        "mlp6 = MLP(\n",
        "    LinearLayer(n_features, HIDDEN_SIZE),\n",
        "    ReLULayer(),\n",
        "    LinearLayer(HIDDEN_SIZE, HIDDEN_SIZE),\n",
        "    ReLULayer(),\n",
        "    LinearLayer(HIDDEN_SIZE, 10),\n",
        "    SoftmaxOutputLayer()\n",
        ")\n",
        "opt6 = GradientDescentOptimizer(mlp6, 1e-2)\n",
        "\n",
        "mlp6.train(opt6, trainI_6, train_l6, 20,32)"
      ],
      "metadata": {
        "colab": {
          "base_uri": "https://localhost:8080/",
          "height": 350
        },
        "id": "3D4kOKWA40KY",
        "outputId": "19907408-f93a-45b6-ff9e-a74ac8c69bea"
      },
      "execution_count": null,
      "outputs": [
        {
          "output_type": "stream",
          "name": "stderr",
          "text": [
            "100%|██████████| 20/20 [00:00<00:00, 16858.14it/s]\n"
          ]
        },
        {
          "output_type": "display_data",
          "data": {
            "text/plain": [
              "<Figure size 432x288 with 1 Axes>"
            ],
            "image/png": "[encoded data removed]"
          },
          "metadata": {
            "needs_background": "light"
          }
        }
      ]
    },
    {
      "cell_type": "code",
      "source": [
        "HIDDEN_SIZE=128\n",
        "mlp60 = MLP(\n",
        "    LinearLayer(n_features, HIDDEN_SIZE),\n",
        "    ReLULayer(),\n",
        "    LinearLayer(HIDDEN_SIZE, HIDDEN_SIZE),\n",
        "    ReLULayer(),\n",
        "    LinearLayer(HIDDEN_SIZE, 10),\n",
        "    SoftmaxOutputLayer()\n",
        ")\n",
        "opt60 = GradientDescentOptimizer(mlp60, 1e-2)\n",
        "\n",
        "mlp60.train(opt60, trainI_60, train_l60, 20,32)"
      ],
      "metadata": {
        "colab": {
          "base_uri": "https://localhost:8080/",
          "height": 367
        },
        "id": "RPfCK3L_9z7d",
        "outputId": "f266ea89-28d6-4a2b-d2df-c7fe188e1881"
      },
      "execution_count": null,
      "outputs": [
        {
          "output_type": "stream",
          "name": "stderr",
          "text": [
            "100%|██████████| 20/20 [00:00<00:00, 25.65it/s]\n"
          ]
        },
        {
          "output_type": "display_data",
          "data": {
            "text/plain": [
              "<Figure size 432x288 with 1 Axes>"
            ],
            "image/png": "[encoded data removed]"
          },
          "metadata": {
            "needs_background": "light"
          }
        }
      ]
    },
    {
      "cell_type": "code",
      "source": [
        "HIDDEN_SIZE=128\n",
        "mlp600 = MLP(\n",
        "    LinearLayer(n_features, HIDDEN_SIZE),\n",
        "    ReLULayer(),\n",
        "    LinearLayer(HIDDEN_SIZE, HIDDEN_SIZE),\n",
        "    ReLULayer(),\n",
        "    LinearLayer(HIDDEN_SIZE, 10),\n",
        "    SoftmaxOutputLayer()\n",
        ")\n",
        "opt600 = GradientDescentOptimizer(mlp600, 1e-2)\n",
        "\n",
        "mlp600.train(opt600, trainI_600, train_l600, 20,32)"
      ],
      "metadata": {
        "colab": {
          "base_uri": "https://localhost:8080/",
          "height": 367
        },
        "id": "XXuiC3tw90i0",
        "outputId": "95c27953-5e48-4c5f-dc4f-4aac1c65ebd0"
      },
      "execution_count": null,
      "outputs": [
        {
          "output_type": "stream",
          "name": "stderr",
          "text": [
            "100%|██████████| 20/20 [00:10<00:00,  1.82it/s]\n"
          ]
        },
        {
          "output_type": "display_data",
          "data": {
            "text/plain": [
              "<Figure size 432x288 with 1 Axes>"
            ],
            "image/png": "[encoded data removed]"
          },
          "metadata": {
            "needs_background": "light"
          }
        }
      ]
    },
    {
      "cell_type": "code",
      "source": [
        "HIDDEN_SIZE=128\n",
        "mlp6000 = MLP(\n",
        "    LinearLayer(n_features, HIDDEN_SIZE),\n",
        "    ReLULayer(),\n",
        "    LinearLayer(HIDDEN_SIZE, HIDDEN_SIZE),\n",
        "    ReLULayer(),\n",
        "    LinearLayer(HIDDEN_SIZE, 10),\n",
        "    SoftmaxOutputLayer()\n",
        ")\n",
        "opt6000 = GradientDescentOptimizer(mlp6000, 1e-2)\n",
        "\n",
        "mlp6000.train(opt6000, trainI_6000, train_l6000, 20,32)"
      ],
      "metadata": {
        "colab": {
          "base_uri": "https://localhost:8080/",
          "height": 367
        },
        "id": "_UMZWZ9a90_P",
        "outputId": "32882eea-c426-4616-f61b-dbf96a4731de"
      },
      "execution_count": null,
      "outputs": [
        {
          "output_type": "stream",
          "name": "stderr",
          "text": [
            "100%|██████████| 20/20 [02:01<00:00,  6.10s/it]\n"
          ]
        },
        {
          "output_type": "display_data",
          "data": {
            "text/plain": [
              "<Figure size 432x288 with 1 Axes>"
            ],
            "image/png": "[encoded data removed]"
          },
          "metadata": {
            "needs_background": "light"
          }
        }
      ]
    },
    {
      "cell_type": "code",
      "source": [
        "HIDDEN_SIZE=128\n",
        "mlp60000 = MLP(\n",
        "    LinearLayer(n_features, HIDDEN_SIZE),\n",
        "    ReLULayer(),\n",
        "    LinearLayer(HIDDEN_SIZE, HIDDEN_SIZE),\n",
        "    ReLULayer(),\n",
        "    LinearLayer(HIDDEN_SIZE, 10),\n",
        "    SoftmaxOutputLayer()\n",
        ")\n",
        "opt60000 = GradientDescentOptimizer(mlp60000, 1e-2)\n",
        "\n",
        "mlp60000.train(opt60000, trainI_60000, train_l60000, 20,32)"
      ],
      "metadata": {
        "colab": {
          "base_uri": "https://localhost:8080/",
          "height": 296
        },
        "id": "jXtBYrHc-CL6",
        "outputId": "aa298a1c-3797-49a6-c4dc-599df2e610cc"
      },
      "execution_count": null,
      "outputs": [
        {
          "output_type": "stream",
          "name": "stderr",
          "text": [
            "100%|██████████| 20/20 [17:11<00:00, 51.56s/it]\n"
          ]
        },
        {
          "output_type": "display_data",
          "data": {
            "text/plain": [
              "<Figure size 432x288 with 1 Axes>"
            ],
            "image/png": "[encoded data removed]"
          },
          "metadata": {
            "needs_background": "light"
          }
        }
      ]
    },
    {
      "cell_type": "code",
      "source": [
        "yh6s=[]\n",
        "yh6s.append(mlp6.predict(test_I))\n",
        "yh6s.append(mlp60.predict(test_I))\n",
        "yh6s.append(mlp600.predict(test_I))\n",
        "yh6s.append(mlp6000.predict(test_I))\n",
        "yh6s.append(mlp60000.predict(test_I))\n",
        "\n",
        "test_accs=[]\n",
        "for yhs in yh6s:\n",
        "  acc=sum(yhs==np.array(test_labels))\n",
        "  accuracy=acc/yhs.shape[0]\n",
        "  test_accs.append(accuracy*100)\n",
        "\n",
        "\n",
        "\n",
        "\n",
        "\n",
        "\n",
        "print(test_accs)"
      ],
      "metadata": {
        "id": "U9iLgUJ5-L2l"
      },
      "execution_count": null,
      "outputs": []
    },
    {
      "cell_type": "code",
      "source": [
        "plt.figure(figsize=(10,5))\n",
        "c=['lightsteelblue','plum']\n",
        "labels_test=['6 Articles','60 Articles','600 Articles','6000 Articles','60000 Articles']\n",
        "\n",
        "lab=np.arange(len(labels_test))\n",
        "plt.bar(lab,test_accs,align='center',color=c[0])\n",
        "#plt.bar(lab,test_count_l,align='center',color=c[1],bottom=train_count_l)\n",
        "#plt.legend(['Training Set: '+str(train_labels.shape[0])+' images', 'Testing Set: '+str(test_labels.shape[0])+' images'])\n",
        "plt.xticks(lab,labels_test)\n",
        "plt.ylim((0, 100))\n",
        "#plt.legend(['Positive Reviews: '+str(valuepos),'Negative Reviews: '+str(valueneg)])\n",
        "plt.xlabel('Training Size')\n",
        "plt.ylabel('Testing Accuracy (%)')\n",
        "plt.title('Testing Accuracies for Varying Training Sizes with MLP')\n",
        "plt.show()"
      ],
      "metadata": {
        "id": "tdPEgRh6TM16"
      },
      "execution_count": null,
      "outputs": []
    },
    {
      "cell_type": "markdown",
      "source": [
        "Comparing the testing accuracies for ConVNet models by varying the dataset size for training."
      ],
      "metadata": {
        "id": "k3qLPv9JRIMP"
      }
    },
    {
      "cell_type": "code",
      "source": [
        "import tensorflow as tf\n",
        "import numpy as np\n",
        "from tensorflow import keras"
      ],
      "metadata": {
        "id": "uuALIYQAb86Q"
      },
      "execution_count": null,
      "outputs": []
    },
    {
      "cell_type": "code",
      "source": [
        "model=keras.models.Sequential([\n",
        "    keras.layers.Conv2D(64,(3,3), activation='relu', input_shape=(28,28,1)),\n",
        "    keras.layers.MaxPooling2D(2,2),\n",
        "    keras.layers.Conv2D(64,(3,3), activation='relu'),\n",
        "    keras.layers.MaxPooling2D(2,2),\n",
        "    keras.layers.Flatten(),\n",
        "    keras.layers.Dense(128, activation=tf.nn.relu),\n",
        "    keras.layers.Dense(128, activation=tf.nn.relu),\n",
        "    keras.layers.Dense(10, activation=tf.nn.softmax)\n",
        "])"
      ],
      "metadata": {
        "id": "AQh7J89Ob86Q"
      },
      "execution_count": null,
      "outputs": []
    },
    {
      "cell_type": "code",
      "source": [
        "model.summary()"
      ],
      "metadata": {
        "colab": {
          "base_uri": "https://localhost:8080/"
        },
        "outputId": "9b74d568-97f0-4318-ea31-914fbd241ea3",
        "id": "VJQg7d_sb86R"
      },
      "execution_count": null,
      "outputs": [
        {
          "output_type": "stream",
          "name": "stdout",
          "text": [
            "Model: \"sequential_3\"\n",
            "_________________________________________________________________\n",
            " Layer (type)                Output Shape              Param #   \n",
            "=================================================================\n",
            " conv2d_6 (Conv2D)           (None, 26, 26, 64)        640       \n",
            "                                                                 \n",
            " max_pooling2d_6 (MaxPooling  (None, 13, 13, 64)       0         \n",
            " 2D)                                                             \n",
            "                                                                 \n",
            " conv2d_7 (Conv2D)           (None, 11, 11, 64)        36928     \n",
            "                                                                 \n",
            " max_pooling2d_7 (MaxPooling  (None, 5, 5, 64)         0         \n",
            " 2D)                                                             \n",
            "                                                                 \n",
            " flatten_3 (Flatten)         (None, 1600)              0         \n",
            "                                                                 \n",
            " dense_9 (Dense)             (None, 128)               204928    \n",
            "                                                                 \n",
            " dense_10 (Dense)            (None, 128)               16512     \n",
            "                                                                 \n",
            " dense_11 (Dense)            (None, 10)                1290      \n",
            "                                                                 \n",
            "=================================================================\n",
            "Total params: 260,298\n",
            "Trainable params: 260,298\n",
            "Non-trainable params: 0\n",
            "_________________________________________________________________\n"
          ]
        }
      ]
    },
    {
      "cell_type": "code",
      "source": [
        "model.compile(optimizer='adam', loss='sparse_categorical_crossentropy', metrics=['accuracy'])\n",
        "model.save_weights('model.h5')"
      ],
      "metadata": {
        "id": "Npk8JwECb86R"
      },
      "execution_count": null,
      "outputs": []
    },
    {
      "cell_type": "code",
      "source": [
        "history6=model.fit(trainI_6,train_l6, epochs=5)\n",
        "test_loss6=model.evaluate(test_images1,test_labels)\n",
        "model.load_weights('model.h5')"
      ],
      "metadata": {
        "colab": {
          "base_uri": "https://localhost:8080/"
        },
        "id": "zy0HGcLra7ef",
        "outputId": "1251e879-c4d6-4273-91c4-684bd2a3a6f9"
      },
      "execution_count": null,
      "outputs": [
        {
          "output_type": "stream",
          "name": "stdout",
          "text": [
            "Epoch 1/5\n",
            "1/1 [==============================] - 1s 515ms/step - loss: 2.3232 - accuracy: 0.0000e+00\n",
            "Epoch 2/5\n",
            "1/1 [==============================] - 0s 25ms/step - loss: 2.2325 - accuracy: 0.5000\n",
            "Epoch 3/5\n",
            "1/1 [==============================] - 0s 19ms/step - loss: 2.1544 - accuracy: 0.6667\n",
            "Epoch 4/5\n",
            "1/1 [==============================] - 0s 24ms/step - loss: 2.0519 - accuracy: 0.6667\n",
            "Epoch 5/5\n",
            "1/1 [==============================] - 0s 20ms/step - loss: 1.9239 - accuracy: 0.6667\n",
            "313/313 [==============================] - 4s 13ms/step - loss: 2.3366 - accuracy: 0.1813\n"
          ]
        }
      ]
    },
    {
      "cell_type": "code",
      "source": [
        "history60=model.fit(trainI_60,train_l60, epochs=5)\n",
        "test_loss60=model.evaluate(test_images1,test_labels)\n",
        "model.load_weights('model.h5')"
      ],
      "metadata": {
        "colab": {
          "base_uri": "https://localhost:8080/"
        },
        "id": "8kLJW3gObaVu",
        "outputId": "5890f9e7-78fd-40b5-d37d-f90e412bbf4f"
      },
      "execution_count": null,
      "outputs": [
        {
          "output_type": "stream",
          "name": "stdout",
          "text": [
            "Epoch 1/5\n",
            "2/2 [==============================] - 0s 45ms/step - loss: 2.2909 - accuracy: 0.1167\n",
            "Epoch 2/5\n",
            "2/2 [==============================] - 0s 43ms/step - loss: 2.2151 - accuracy: 0.2000\n",
            "Epoch 3/5\n",
            "2/2 [==============================] - 0s 47ms/step - loss: 2.1252 - accuracy: 0.2000\n",
            "Epoch 4/5\n",
            "2/2 [==============================] - 0s 40ms/step - loss: 2.0134 - accuracy: 0.3500\n",
            "Epoch 5/5\n",
            "2/2 [==============================] - 0s 47ms/step - loss: 1.8518 - accuracy: 0.3500\n",
            "313/313 [==============================] - 4s 13ms/step - loss: 1.8872 - accuracy: 0.2430\n"
          ]
        }
      ]
    },
    {
      "cell_type": "code",
      "source": [
        "history600=model.fit(trainI_600,train_l600, epochs=5)\n",
        "test_loss600=model.evaluate(test_images1,test_labels)\n",
        "model.load_weights('model.h5')"
      ],
      "metadata": {
        "colab": {
          "base_uri": "https://localhost:8080/"
        },
        "id": "m0HFEyHLd58j",
        "outputId": "552d6d8b-a65b-43ae-9899-0a9e895bac36"
      },
      "execution_count": null,
      "outputs": [
        {
          "output_type": "stream",
          "name": "stdout",
          "text": [
            "Epoch 1/5\n",
            "19/19 [==============================] - 1s 46ms/step - loss: 1.8448 - accuracy: 0.3617\n",
            "Epoch 2/5\n",
            "19/19 [==============================] - 1s 47ms/step - loss: 1.1379 - accuracy: 0.5917\n",
            "Epoch 3/5\n",
            "19/19 [==============================] - 1s 46ms/step - loss: 0.9412 - accuracy: 0.6583\n",
            "Epoch 4/5\n",
            "19/19 [==============================] - 1s 46ms/step - loss: 0.8444 - accuracy: 0.7100\n",
            "Epoch 5/5\n",
            "19/19 [==============================] - 1s 47ms/step - loss: 0.6873 - accuracy: 0.7567\n",
            "313/313 [==============================] - 4s 13ms/step - loss: 0.6996 - accuracy: 0.7354\n"
          ]
        }
      ]
    },
    {
      "cell_type": "code",
      "source": [
        "history6000=model.fit(trainI_6000,train_l6000, epochs=5)\n",
        "test_loss6000=model.evaluate(test_images1,test_labels)\n",
        "model.load_weights('model.h5')"
      ],
      "metadata": {
        "colab": {
          "base_uri": "https://localhost:8080/"
        },
        "id": "vrSjbwK_d7ta",
        "outputId": "8220f776-6c53-4017-bb4d-15f7850228d7"
      },
      "execution_count": null,
      "outputs": [
        {
          "output_type": "stream",
          "name": "stdout",
          "text": [
            "Epoch 1/5\n",
            "188/188 [==============================] - 9s 46ms/step - loss: 0.9883 - accuracy: 0.6278\n",
            "Epoch 2/5\n",
            "188/188 [==============================] - 9s 46ms/step - loss: 0.5302 - accuracy: 0.8007\n",
            "Epoch 3/5\n",
            "188/188 [==============================] - 9s 46ms/step - loss: 0.4371 - accuracy: 0.8402\n",
            "Epoch 4/5\n",
            "188/188 [==============================] - 9s 47ms/step - loss: 0.3652 - accuracy: 0.8687\n",
            "Epoch 5/5\n",
            "188/188 [==============================] - 9s 47ms/step - loss: 0.3392 - accuracy: 0.8740\n",
            "313/313 [==============================] - 4s 13ms/step - loss: 0.4287 - accuracy: 0.8471\n"
          ]
        }
      ]
    },
    {
      "cell_type": "code",
      "source": [
        "history60000=model.fit(trainI_60000,train_l60000, epochs=5)\n",
        "test_loss60000=model.evaluate(test_images1,test_labels)\n",
        "model.load_weights('model.h5')"
      ],
      "metadata": {
        "colab": {
          "base_uri": "https://localhost:8080/"
        },
        "id": "xejJUAyqd8hG",
        "outputId": "150959cc-49b8-449d-c480-6fc9165b81e3"
      },
      "execution_count": null,
      "outputs": [
        {
          "output_type": "stream",
          "name": "stdout",
          "text": [
            "Epoch 1/5\n",
            "1875/1875 [==============================] - 91s 48ms/step - loss: 0.4872 - accuracy: 0.8194\n",
            "Epoch 2/5\n",
            "1875/1875 [==============================] - 89s 47ms/step - loss: 0.2983 - accuracy: 0.8897\n",
            "Epoch 3/5\n",
            "1875/1875 [==============================] - 87s 46ms/step - loss: 0.2517 - accuracy: 0.9072\n",
            "Epoch 4/5\n",
            "1875/1875 [==============================] - 89s 47ms/step - loss: 0.2214 - accuracy: 0.9172\n",
            "Epoch 5/5\n",
            "1875/1875 [==============================] - 91s 48ms/step - loss: 0.1989 - accuracy: 0.9252\n",
            "313/313 [==============================] - 4s 12ms/step - loss: 0.2552 - accuracy: 0.9075\n"
          ]
        }
      ]
    },
    {
      "cell_type": "code",
      "source": [
        "test_accuracies_conv=[test_loss6[1]*100,test_loss60[1]*100,test_loss600[1]*100,test_loss6000[1]*100,test_loss60000[1]*100]\n",
        "\n",
        "plt.figure(figsize=(10,5))\n",
        "c=['lightsteelblue','plum']\n",
        "labels_test=['6 Articles','60 Articles','600 Articles','6000 Articles','60000 Articles']\n",
        "\n",
        "lab=np.arange(len(labels_test))\n",
        "plt.bar(lab,test_accuracies_conv,align='center',color=c[0])\n",
        "#plt.bar(lab,test_count_l,align='center',color=c[1],bottom=train_count_l)\n",
        "#plt.legend(['Training Set: '+str(train_labels.shape[0])+' images', 'Testing Set: '+str(test_labels.shape[0])+' images'])\n",
        "plt.xticks(lab,labels_test)\n",
        "plt.ylim((0, 100))\n",
        "#plt.legend(['Positive Reviews: '+str(valuepos),'Negative Reviews: '+str(valueneg)])\n",
        "plt.xlabel('Training Size')\n",
        "plt.ylabel('Testing Accuracy (%)')\n",
        "plt.title('Testing Accuracies for Varying Training Sizes with ConvNet')\n",
        "plt.show()"
      ],
      "metadata": {
        "colab": {
          "base_uri": "https://localhost:8080/",
          "height": 350
        },
        "id": "Rrh4ApypheD_",
        "outputId": "66f8cda9-779c-47c3-b39b-940312ca0175"
      },
      "execution_count": null,
      "outputs": [
        {
          "output_type": "display_data",
          "data": {
            "text/plain": [
              "<Figure size 720x360 with 1 Axes>"
            ],
            "image/png": "[encoded data removed]"
          },
          "metadata": {
            "needs_background": "light"
          }
        }
      ]
    }
  ],
  "metadata": {
    "kernelspec": {
      "display_name": "Python 3 (ipykernel)",
      "language": "python",
      "name": "python3"
    },
    "language_info": {
      "codemirror_mode": {
        "name": "ipython",
        "version": 3
      },
      "file_extension": ".py",
      "mimetype": "text/x-python",
      "name": "python",
      "nbconvert_exporter": "python",
      "pygments_lexer": "ipython3",
      "version": "3.10.8"
    },
    "colab": {
      "provenance": [],
      "include_colab_link": true
    }
  },
  "nbformat": 4,
  "nbformat_minor": 0
}