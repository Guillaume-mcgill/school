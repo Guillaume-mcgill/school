{
  "cells": [
    {
      "cell_type": "markdown",
      "metadata": {
        "id": "view-in-github",
        "colab_type": "text"
      },
      "source": [
        "<a href=\"https://colab.research.google.com/github/Guillaume-mcgill/school/blob/main/COMP551_assignment2.ipynb\" target=\"_parent\"><img src=\"https://colab.research.google.com/assets/colab-badge.svg\" alt=\"Open In Colab\"/></a>"
      ]
    },
    {
      "cell_type": "markdown",
      "metadata": {
        "id": "IaU-5N1IiTJZ"
      },
      "source": [
        "Samuel Bernard [260983658]                                                                             \n",
        "Mohul Sharma [260986320]                                                                  \n",
        "Guillaume Rodier [260975661]"
      ]
    },
    {
      "cell_type": "markdown",
      "metadata": {
        "id": "RO5yY1ljiViU"
      },
      "source": [
        "**IMPORTS:**\n"
      ]
    },
    {
      "cell_type": "code",
      "execution_count": null,
      "metadata": {
        "colab": {
          "base_uri": "https://localhost:8080/"
        },
        "id": "vkZNRBBbhyvO",
        "outputId": "1a42baf0-da40-4896-90b6-6e7cba0fe27f"
      },
      "outputs": [
        {
          "output_type": "stream",
          "name": "stdout",
          "text": [
            "Mounted at /content/drive\n"
          ]
        }
      ],
      "source": [
        "import pandas as pd\n",
        "import numpy as np\n",
        "from google.colab import drive\n",
        "drive.mount('/content/drive')\n",
        "\n",
        "# from Sklearn\n",
        "from sklearn.feature_extraction.text import CountVectorizer, TfidfTransformer, TfidfVectorizer\n",
        "from sklearn.metrics import mutual_info_score\n",
        "from sklearn.datasets import load_svmlight_file, fetch_20newsgroups\n",
        "from sklearn.linear_model import LogisticRegression as sk_LogisticRegression, SGDClassifier\n",
        "from sklearn.preprocessing import OneHotEncoder\n",
        "from sklearn.metrics import roc_curve, roc_auc_score\n",
        "from sklearn.neighbors import KNeighborsClassifier\n",
        "import scipy\n",
        "\n",
        "# plotting and math operations\n",
        "from math import sqrt\n",
        "import matplotlib.pyplot as plt"
      ]
    },
    {
      "cell_type": "markdown",
      "metadata": {
        "id": "zDf5QfJPilI5"
      },
      "source": [
        "# **TASK 1.1 (IMBd):**"
      ]
    },
    {
      "cell_type": "markdown",
      "metadata": {
        "id": "YKCYLFs3jf_P"
      },
      "source": [
        "FIRST LOAD THE DATA:"
      ]
    },
    {
      "cell_type": "code",
      "execution_count": null,
      "metadata": {
        "id": "_BVwJsTbig0T"
      },
      "outputs": [],
      "source": [
        "# load the data\n",
        "ds_vocab = pd.read_csv(\"/content/drive/MyDrive/COMP551_assignment2/imdb_vocab.csv\", header=None)\n",
        "ds_Train_Bow, y_train = load_svmlight_file(\"/content/drive/MyDrive/COMP551_assignment2/TrainLabeledBow.feat\", dtype='uint8', n_features=89527)\n",
        "ds_Test_Bow, y_test = load_svmlight_file(\"/content/drive/MyDrive/COMP551_assignment2/TestLabeledBow.feat\", dtype='uint8', n_features=89527)\n",
        "\n",
        "# convert vocabulary to pandas\n",
        "imdb_dataframe=pd.DataFrame(ds_vocab)\n",
        "\n",
        "# convert training set to pandas\n",
        "ds_Train_Bow = pd.DataFrame(ds_Train_Bow.toarray())\n",
        "nb_Train = ds_Train_Bow.shape[0]\n",
        "\n",
        "# convert testing set to pandas\n",
        "ds_Test_Bow = pd.DataFrame(ds_Test_Bow.toarray())\n",
        "nb_Test = ds_Test_Bow.shape[0]\n",
        "\n",
        "# count the number of reviews\n",
        "nb_of_revs=nb_Train+nb_Test\n",
        "\n",
        "# map the elements of the ds_vocab 2D array into a 1D array\n",
        "vocab = []\n",
        "for word in ds_vocab.to_numpy():\n",
        "  vocab.append(word[0])"
      ]
    },
    {
      "cell_type": "markdown",
      "metadata": {
        "id": "hUsAnyd5ni_r"
      },
      "source": [
        "***Exploratory Analysis of The IMDB Dataset***"
      ]
    },
    {
      "cell_type": "code",
      "execution_count": null,
      "metadata": {
        "colab": {
          "base_uri": "https://localhost:8080/",
          "height": 295
        },
        "id": "yuuO9MjPnipF",
        "outputId": "2dda43da-31c9-4062-9748-de301a16ec5f"
      },
      "outputs": [
        {
          "output_type": "display_data",
          "data": {
            "text/plain": [
              "<Figure size 432x288 with 1 Axes>"
            ],
            "image/png": "[encoded data removed]"
          },
          "metadata": {
            "needs_background": "light"
          }
        }
      ],
      "source": [
        "# displaying a distribution of the review ratings from 1-10\n",
        "ds_y_combined=np.concatenate((y_train,y_test))\n",
        "valuepos=(ds_y_combined>5).sum()\n",
        "valueneg=(ds_y_combined<5).sum()\n",
        "pos=ds_y_combined[:][ds_y_combined> 5]\n",
        "neg=ds_y_combined[:][ds_y_combined< 5]\n",
        "cneg=['tomato']\n",
        "cpos=['yellowgreen']\n",
        "\n",
        "labels,counts=np.unique(ds_y_combined,return_counts=True)\n",
        "labelspos, countsp = np.unique(pos, return_counts=True)\n",
        "labelsneg,countsn=np.unique(neg,return_counts=True)\n",
        "\n",
        "plt.bar(labelspos, countsp, align='center', color=cpos)\n",
        "plt.bar(labelsneg,countsn,align='center',color=cneg)\n",
        "plt.gca().set_xticks(labels)\n",
        "\n",
        "plt.legend(['Positive Reviews: '+str(valuepos)+' reviews','Negative Reviews: '+str(valueneg)+' reviews'])\n",
        "plt.xlabel('Review Ratings (1-10)')\n",
        "plt.ylabel('Frequency')\n",
        "plt.title('The Review Rating Distribution From The IMDB Dataset')\n",
        "plt.show()"
      ]
    },
    {
      "cell_type": "markdown",
      "metadata": {
        "id": "8QeN4jzyjeBl"
      },
      "source": [
        "CLEAN THE LOADED DATA:"
      ]
    },
    {
      "cell_type": "markdown",
      "metadata": {
        "id": "-CH6_UJZk77s"
      },
      "source": [
        "***1st filter ('rare' and stopwords):***"
      ]
    },
    {
      "cell_type": "code",
      "execution_count": null,
      "metadata": {
        "id": "iK-fGYvrjwO5"
      },
      "outputs": [],
      "source": [
        "# in how many documents does each word appear? (in the training set)\n",
        "ds_train_tok=np.count_nonzero(ds_Train_Bow, axis=0)\n",
        "ds_test_tok=np.count_nonzero(ds_Test_Bow, axis=0)\n",
        "merged=np.array(ds_train_tok+ds_test_tok)\n",
        "\n",
        "# Finding the indices of the stop words\n",
        "index1p,index50p=0.01*nb_of_revs,0.50*nb_of_revs\n",
        "index=np.where((merged>index50p) | (merged<index1p))\n",
        "remove_words=index[0].tolist()\n",
        "\n",
        "\n",
        "# filter the training set\n",
        "ds_Train_Bow=ds_Train_Bow.drop(remove_words, axis=1)\n",
        "\n",
        "# filter the testing set\n",
        "ds_Test_Bow=ds_Test_Bow.drop(remove_words,axis=1)\n",
        "\n",
        "# filter the vocabulary\n",
        "imdb_dataframe=imdb_dataframe.drop(remove_words)"
      ]
    },
    {
      "cell_type": "markdown",
      "metadata": {
        "id": "nEyYYilBl4-2"
      },
      "source": [
        "***2nd filter (Z-score):***"
      ]
    },
    {
      "cell_type": "code",
      "execution_count": null,
      "metadata": {
        "colab": {
          "base_uri": "https://localhost:8080/"
        },
        "id": "f7jwsJd9qR2G",
        "outputId": "1c5ad6f9-9950-4162-d345-c29b6cc7a000"
      },
      "outputs": [
        {
          "output_type": "stream",
          "name": "stdout",
          "text": [
            "Out of 100 best z_Score vocabulary words, 36 of them were found to be positive words.\n",
            "Out of 100 best z_Score vocabulary words, 64 of them were found to be negative words.\n",
            "Out of 100 best z_Score vocabulary words, the top 10 positive z_score vocabulary words are the following: ['great', 'wonderful', 'excellent', 'best', 'love', 'amazing', 'loved', 'perfect', 'favorite', 'beautiful']\n",
            "and the top 10 negative z_score vocabulary words are the following: ['bad', 'worst', 'waste', 'awful', '?', 'terrible', 'worse', 'no', 'horrible', 'stupid']\n"
          ]
        }
      ],
      "source": [
        "ds_train_tokn=ds_Train_Bow.to_numpy()\n",
        "ds_test_tokn=ds_Test_Bow.to_numpy()\n",
        "\n",
        "# standardizing the input features and the response\n",
        "xcopy=np.zeros(ds_train_tokn.shape)\n",
        "for i in range(len(ds_train_tokn[0])):\n",
        "  xcopy[:,i]=np.around((ds_train_tokn[:,i]-np.average(ds_train_tokn[:,i]))/np.std(ds_train_tokn[:,i]-np.average(ds_train_tokn[:,i])),5)\n",
        "\n",
        "ynew_train=np.copy(y_train)\n",
        "ycopy=np.around((ynew_train-np.average(ynew_train))/np.std(ynew_train-np.average(ynew_train)),5)\n",
        "\n",
        "# calculating the z-scores\n",
        "xT=xcopy.transpose()\n",
        "z_score=np.matmul(xT,ycopy)/np.sqrt(nb_Train)\n",
        "abs_zscore=np.absolute(z_score)\n",
        "best_z=(np.argsort(abs_zscore)[::-1])[:100]\n",
        "\n",
        "# keeping the best features\n",
        "imdb_indices=list(imdb_dataframe.index.values)\n",
        "imdb_features=(np.array(imdb_indices))[:][best_z]\n",
        "ds_Train_Bow=ds_Train_Bow[:][imdb_features]\n",
        "ds_Test_Bow=ds_Test_Bow[:][imdb_features]\n",
        "\n",
        "# does the selected features make sense? Let's print them:\n",
        "imdb_indx_feat=imdb_features.tolist()\n",
        "imdb_array=imdb_dataframe.values.tolist() # make a list of all features kept after stopword and rare word filter\n",
        "\n",
        "posVocab=[]\n",
        "posInd = []\n",
        "posZS = []\n",
        "negVocab=[]\n",
        "negInd = []\n",
        "negZS = []\n",
        "\n",
        "i=0\n",
        "for value in best_z: # iterate through all the best values to find those that are positive and negative\n",
        "  if z_score[value]>=0:\n",
        "    posVocab.append(''.join(imdb_array[value])) # make a list of all most positive z-scores\n",
        "    posInd.append(imdb_indx_feat[i])\n",
        "    posZS.append(z_score[value])\n",
        "  elif z_score[value]<0:\n",
        "    negVocab.append(''.join(imdb_array[value])) # make a list of all most positive z-scores\n",
        "    negInd.append(imdb_indx_feat[i])\n",
        "    negZS.append(z_score[value])\n",
        "  i+=1\n",
        "\n",
        "print(f\"Out of 100 best z_Score vocabulary words, {len(posVocab)} of them were found to be positive words.\")\n",
        "print(f\"Out of 100 best z_Score vocabulary words, {len(negVocab)} of them were found to be negative words.\")\n",
        "\n",
        "posVocab=posVocab[:10]\n",
        "negVocab=negVocab[:10]\n",
        "posInd=posInd[:10]\n",
        "negInd=negInd[:10]\n",
        "posZS=posZS[:10]\n",
        "negZS=negZS[:10]\n",
        "indices_of_best = negInd + posInd\n",
        "print(f\"Out of 100 best z_Score vocabulary words, the top 10 positive z_score vocabulary words are the following: {posVocab}\")\n",
        "print(f\"and the top 10 negative z_score vocabulary words are the following: {negVocab}\")"
      ]
    },
    {
      "cell_type": "code",
      "execution_count": null,
      "metadata": {
        "colab": {
          "base_uri": "https://localhost:8080/",
          "height": 310
        },
        "id": "nVgcN8vo3OBV",
        "outputId": "c8a54144-b24d-48b7-94e4-631cac8aee9f"
      },
      "outputs": [
        {
          "output_type": "display_data",
          "data": {
            "text/plain": [
              "<Figure size 432x288 with 1 Axes>"
            ],
            "image/png": "[encoded data removed]"
          },
          "metadata": {
            "needs_background": "light"
          }
        }
      ],
      "source": [
        "#Plotting a horizontal bar plot of the top 10 positive words and top 10 negative words, and their corresponding z-scores\n",
        "plt.barh(negVocab, negZS, align='center', color='tomato')\n",
        "plt.barh(posVocab, posZS, align='center', color='yellowgreen')\n",
        "plt.title('Bar Plot of Top 10 Negative & Top 10 Positive Feature \\nNames With Corresponding Z-Scores')\n",
        "plt.legend(['Negative Vocabulary', 'Positive Vocabulary'])\n",
        "plt.xlabel('Z-Score')\n",
        "plt.ylabel('Feature Name')\n",
        "plt.show()"
      ]
    },
    {
      "cell_type": "markdown",
      "metadata": {
        "id": "b_kkxw7fofeQ"
      },
      "source": [
        "# **TASK 1.2 (20 News Groups):**"
      ]
    },
    {
      "cell_type": "markdown",
      "metadata": {
        "id": "5VhU9Covo6af"
      },
      "source": [
        "FIRST LOAD THE DATA"
      ]
    },
    {
      "cell_type": "code",
      "execution_count": null,
      "metadata": {
        "id": "cFFccOYenjOw"
      },
      "outputs": [],
      "source": [
        "categories=['comp.graphics','rec.sport.hockey','sci.med','soc.religion.christian']\n",
        "\n",
        "# Fetch the training data\n",
        "trainData = fetch_20newsgroups(subset='train', categories=categories, remove=(['headers','footers','quotes']), shuffle=True, random_state=551)\n",
        "\n",
        "# Fetch the testing data\n",
        "testData = fetch_20newsgroups(subset='test', categories=categories, remove=(['headers','footers','quotes']), shuffle=True, random_state=551)\n",
        "\n",
        "# Fetch all the data\n",
        "allData = fetch_20newsgroups(subset='all', categories=categories, remove=(['headers','footers','quotes']), shuffle=True, random_state=551)\n",
        "\n",
        "# Initialize the count vectorizer\n",
        "count_vect = CountVectorizer()\n",
        "\n",
        "# create a first word index for all the data for exploratory analysis\n",
        "x_all_counts = count_vect.fit_transform(allData.data)\n",
        "\n",
        "# create a second word index to fit/transform the training data and transform the test data\n",
        "x_train_counts = count_vect.fit_transform(trainData.data)\n",
        "x_test_counts = count_vect.transform(testData.data)\n",
        "\n",
        "\n",
        "y_train_NewsGroup = trainData.target\n",
        "y_test_NewsGroup = testData.target\n",
        "y_all_NewsGroup = allData.target\n",
        "\n",
        "# create a pandas dataframe with final x components\n",
        "x_all_NewsGroup = pd.DataFrame(x_all_counts.toarray())\n",
        "x_train_NewsGroup = pd.DataFrame(x_train_counts.toarray())\n",
        "x_test_NewsGroup = pd.DataFrame(x_test_counts.toarray())\n"
      ]
    },
    {
      "cell_type": "markdown",
      "metadata": {
        "id": "_wGDOK0Kp__I"
      },
      "source": [
        "APPLY ONE HOT ENCODING ON Y:"
      ]
    },
    {
      "cell_type": "code",
      "execution_count": null,
      "metadata": {
        "id": "uPnHve2iqEVo"
      },
      "outputs": [],
      "source": [
        "# instantiate the OneHotEncoder function to turn four labels into arrays\n",
        "encoder = OneHotEncoder()\n",
        "\n",
        "# fit to transform on the train data\n",
        "encoded_train = encoder.fit_transform(pd.DataFrame(y_train_NewsGroup))\n",
        "encoded_train = encoded_train.toarray()\n",
        "\n",
        "# transform the test data on the training data\n",
        "encoded_test = encoder.transform(pd.DataFrame(y_test_NewsGroup))\n",
        "encoded_test = encoded_test.toarray()\n"
      ]
    },
    {
      "cell_type": "markdown",
      "metadata": {
        "id": "7Q7-qhulza59"
      },
      "source": [
        "EXPLORATORY ANALYSIS FOR 20NEWSGROUP:"
      ]
    },
    {
      "cell_type": "code",
      "execution_count": null,
      "metadata": {
        "colab": {
          "base_uri": "https://localhost:8080/"
        },
        "id": "bb-LbkDrzaf1",
        "outputId": "2c14faeb-e8dd-443e-a238-31b536d12c4e"
      },
      "outputs": [
        {
          "output_type": "stream",
          "name": "stdout",
          "text": [
            "The total amount of features for training plus testing is: 40373\n",
            "However, we are transforming the testing data on the training data, so the number of features becomes: 30945\n"
          ]
        }
      ],
      "source": [
        "print(f\"The total amount of features for training plus testing is: {x_all_NewsGroup.shape[1]}\")\n",
        "print(f\"However, we are transforming the testing data on the training data, so the number of features becomes: {x_train_NewsGroup.shape[1]}\")"
      ]
    },
    {
      "cell_type": "code",
      "execution_count": null,
      "metadata": {
        "colab": {
          "base_uri": "https://localhost:8080/",
          "height": 389
        },
        "id": "byH5fHk1zyTL",
        "outputId": "044e028f-eb7b-463e-98e0-e4ff7c92c005"
      },
      "outputs": [
        {
          "output_type": "display_data",
          "data": {
            "text/plain": [
              "<Figure size 432x288 with 1 Axes>"
            ],
            "image/png": "[encoded data removed]"
          },
          "metadata": {
            "needs_background": "light"
          }
        },
        {
          "output_type": "stream",
          "name": "stdout",
          "text": [
            "From combined testing and training sets,\n",
            "There are 973 posts from the comp.graphics category.\n",
            "There are 999 posts from the rec.sport.hockey category.\n",
            "There are 990 posts from the sci.med category.\n",
            "There are 997 posts from the soc.religion.christian category.\n"
          ]
        }
      ],
      "source": [
        "# displaying a distribution of the number of posts in the Four Categories Selected in the 20NewsGroup Dataset\n",
        "count_test=np.count_nonzero(encoded_test,axis=0)\n",
        "count_train=np.count_nonzero(encoded_train,axis=0)\n",
        "encoded_combined=np.concatenate((encoded_train,encoded_test))\n",
        "count=np.count_nonzero(encoded_combined,axis=0)\n",
        "name4=encoder.get_feature_names_out()\n",
        "\n",
        "c=['lightsteelblue','plum']\n",
        "cat=np.arange(len(categories))\n",
        "plt.bar(cat,count_train,align='center',color=c[0])\n",
        "plt.bar(cat,count_test,align='center',color=c[1],bottom=count_train)\n",
        "\n",
        "plt.xticks(cat,categories)\n",
        "plt.legend(['Training Set: '+str(x_train_NewsGroup.shape[0])+' posts', 'Testing Set: '+str(x_test_NewsGroup.shape[0])+' posts'])\n",
        "\n",
        "plt.xlabel('Categories')\n",
        "plt.ylabel('Frequency')\n",
        "plt.title('Distribution of the Number of Posts in the Four Categories Selected in the 20NewsGroup Dataset')\n",
        "plt.ylim((0, 1500))\n",
        "plt.show()\n",
        "\n",
        "print(f'From combined testing and training sets,')\n",
        "for x in range(len(count)):\n",
        "  print(f\"There are {count[x]} posts from the {categories[x]} category.\")"
      ]
    },
    {
      "cell_type": "markdown",
      "metadata": {
        "id": "p0rqh5Sko4_T"
      },
      "source": [
        "***1st filter ('rare' and stopwords):***"
      ]
    },
    {
      "cell_type": "code",
      "execution_count": null,
      "metadata": {
        "id": "Sg_vHQr8pJXa"
      },
      "outputs": [],
      "source": [
        "# define constants\n",
        "nb_of_lines = x_all_NewsGroup.shape[0]\n",
        "index1p, index50p = 0.01*nb_of_lines, 0.50*nb_of_lines                          # numb of occurences to consider as extremum\n",
        "\n",
        "# total occurence of each word\n",
        "train_count=np.count_nonzero(x_train_NewsGroup, axis=0)\n",
        "test_count=np.count_nonzero(x_test_NewsGroup, axis=0)\n",
        "merged=np.array(train_count+test_count)\n",
        "\n",
        "# find indices to remove\n",
        "index=np.where((merged>index50p) | (merged<index1p))\n",
        "remove_words=index[0].tolist()\n",
        "\n",
        "# remove word features from initial datasets\n",
        "x_train_NewsGroup, x_test_NewsGroup = x_train_NewsGroup.drop(remove_words, axis=1), x_test_NewsGroup.drop(remove_words,axis=1)\n",
        "x_all_NewsGroup = x_all_NewsGroup.drop(remove_words, axis=1)"
      ]
    },
    {
      "cell_type": "markdown",
      "metadata": {
        "id": "ICXLwqHrqmTD"
      },
      "source": [
        "***2nd filter (select best features with MI):***"
      ]
    },
    {
      "cell_type": "code",
      "execution_count": null,
      "metadata": {
        "colab": {
          "base_uri": "https://localhost:8080/",
          "height": 480
        },
        "id": "SeBC5weu1xfz",
        "outputId": "88265322-57df-40d7-bced-c426091190cd"
      },
      "outputs": [
        {
          "output_type": "stream",
          "name": "stdout",
          "text": [
            "Here are the best 20 features, 5 from each category: ['graphics' 'he' 'who' 'files' 'file' 'team' 'game' 'hockey' 'season'\n",
            " 'nhl' 'banks' 'gordon' 'geb' 'chastity' 'n3jxp' 'god' 'jesus' 'christ'\n",
            " 'bible' 'christians']\n"
          ]
        },
        {
          "output_type": "display_data",
          "data": {
            "text/plain": [
              "      20943  133    20989  21085  21097  21109  21155  21414  21438  1018   \\\n",
              "0         0      0      0      0      0      2      0      0      0      0   \n",
              "1         0      0      0      0      0      0      0      0      0      0   \n",
              "2         0      0      0      0      0      0      0      0      0      0   \n",
              "3         0      0      0      0      0      0      0      0      0      0   \n",
              "4         0      1      0      0      0      0      0      0      0      0   \n",
              "...     ...    ...    ...    ...    ...    ...    ...    ...    ...    ...   \n",
              "2372      0      0      0      0      0      0      0      0      0      1   \n",
              "2373      0      0      0      0      0      1      0      0      0      0   \n",
              "2374      0      0      0      0      0      0      0      0      0      0   \n",
              "2375      0      0      0      0      0      0      0      0      0      0   \n",
              "2376      0      0      0      0      0      0      0      0      0      0   \n",
              "\n",
              "      ...  20156  20171  20276  20406  20410  20433  20637  20667  20933  \\\n",
              "0     ...      2      1      2      2      0      1      0      0      0   \n",
              "1     ...      0      1      0      0      0      0      0      0      0   \n",
              "2     ...      0      0      0      0      0      0      0      0      0   \n",
              "3     ...      0      0      1      0      0      0      0      0      0   \n",
              "4     ...      1      0      0      1      0      0      0      0      0   \n",
              "...   ...    ...    ...    ...    ...    ...    ...    ...    ...    ...   \n",
              "2372  ...      0      0      1      0      0      0      0      0      0   \n",
              "2373  ...      6      1      4      1      0      0      0      0      0   \n",
              "2374  ...      0      1      1      1      0      0      0      0      0   \n",
              "2375  ...      0      0      1      0      0      0      0      0      0   \n",
              "2376  ...      0      0      0      0      0      0      0      0      0   \n",
              "\n",
              "      20935  \n",
              "0         0  \n",
              "1         0  \n",
              "2         0  \n",
              "3         0  \n",
              "4         2  \n",
              "...     ...  \n",
              "2372      0  \n",
              "2373      0  \n",
              "2374      0  \n",
              "2375      0  \n",
              "2376      0  \n",
              "\n",
              "[2377 rows x 296 columns]"
            ],
            "text/html": [
              "\n",
              "  <div id=\"df-3a78456a-6b4c-4835-a0ef-27fb0d952564\">\n",
              "    <div class=\"colab-df-container\">\n",
              "      <div>\n",
              "<style scoped>\n",
              "    .dataframe tbody tr th:only-of-type {\n",
              "        vertical-align: middle;\n",
              "    }\n",
              "\n",
              "    .dataframe tbody tr th {\n",
              "        vertical-align: top;\n",
              "    }\n",
              "\n",
              "    .dataframe thead th {\n",
              "        text-align: right;\n",
              "    }\n",
              "</style>\n",
              "<table border=\"1\" class=\"dataframe\">\n",
              "  <thead>\n",
              "    <tr style=\"text-align: right;\">\n",
              "      <th></th>\n",
              "      <th>20943</th>\n",
              "      <th>133</th>\n",
              "      <th>20989</th>\n",
              "      <th>21085</th>\n",
              "      <th>21097</th>\n",
              "      <th>21109</th>\n",
              "      <th>21155</th>\n",
              "      <th>21414</th>\n",
              "      <th>21438</th>\n",
              "      <th>1018</th>\n",
              "      <th>...</th>\n",
              "      <th>20156</th>\n",
              "      <th>20171</th>\n",
              "      <th>20276</th>\n",
              "      <th>20406</th>\n",
              "      <th>20410</th>\n",
              "      <th>20433</th>\n",
              "      <th>20637</th>\n",
              "      <th>20667</th>\n",
              "      <th>20933</th>\n",
              "      <th>20935</th>\n",
              "    </tr>\n",
              "  </thead>\n",
              "  <tbody>\n",
              "    <tr>\n",
              "      <th>0</th>\n",
              "      <td>0</td>\n",
              "      <td>0</td>\n",
              "      <td>0</td>\n",
              "      <td>0</td>\n",
              "      <td>0</td>\n",
              "      <td>2</td>\n",
              "      <td>0</td>\n",
              "      <td>0</td>\n",
              "      <td>0</td>\n",
              "      <td>0</td>\n",
              "      <td>...</td>\n",
              "      <td>2</td>\n",
              "      <td>1</td>\n",
              "      <td>2</td>\n",
              "      <td>2</td>\n",
              "      <td>0</td>\n",
              "      <td>1</td>\n",
              "      <td>0</td>\n",
              "      <td>0</td>\n",
              "      <td>0</td>\n",
              "      <td>0</td>\n",
              "    </tr>\n",
              "    <tr>\n",
              "      <th>1</th>\n",
              "      <td>0</td>\n",
              "      <td>0</td>\n",
              "      <td>0</td>\n",
              "      <td>0</td>\n",
              "      <td>0</td>\n",
              "      <td>0</td>\n",
              "      <td>0</td>\n",
              "      <td>0</td>\n",
              "      <td>0</td>\n",
              "      <td>0</td>\n",
              "      <td>...</td>\n",
              "      <td>0</td>\n",
              "      <td>1</td>\n",
              "      <td>0</td>\n",
              "      <td>0</td>\n",
              "      <td>0</td>\n",
              "      <td>0</td>\n",
              "      <td>0</td>\n",
              "      <td>0</td>\n",
              "      <td>0</td>\n",
              "      <td>0</td>\n",
              "    </tr>\n",
              "    <tr>\n",
              "      <th>2</th>\n",
              "      <td>0</td>\n",
              "      <td>0</td>\n",
              "      <td>0</td>\n",
              "      <td>0</td>\n",
              "      <td>0</td>\n",
              "      <td>0</td>\n",
              "      <td>0</td>\n",
              "      <td>0</td>\n",
              "      <td>0</td>\n",
              "      <td>0</td>\n",
              "      <td>...</td>\n",
              "      <td>0</td>\n",
              "      <td>0</td>\n",
              "      <td>0</td>\n",
              "      <td>0</td>\n",
              "      <td>0</td>\n",
              "      <td>0</td>\n",
              "      <td>0</td>\n",
              "      <td>0</td>\n",
              "      <td>0</td>\n",
              "      <td>0</td>\n",
              "    </tr>\n",
              "    <tr>\n",
              "      <th>3</th>\n",
              "      <td>0</td>\n",
              "      <td>0</td>\n",
              "      <td>0</td>\n",
              "      <td>0</td>\n",
              "      <td>0</td>\n",
              "      <td>0</td>\n",
              "      <td>0</td>\n",
              "      <td>0</td>\n",
              "      <td>0</td>\n",
              "      <td>0</td>\n",
              "      <td>...</td>\n",
              "      <td>0</td>\n",
              "      <td>0</td>\n",
              "      <td>1</td>\n",
              "      <td>0</td>\n",
              "      <td>0</td>\n",
              "      <td>0</td>\n",
              "      <td>0</td>\n",
              "      <td>0</td>\n",
              "      <td>0</td>\n",
              "      <td>0</td>\n",
              "    </tr>\n",
              "    <tr>\n",
              "      <th>4</th>\n",
              "      <td>0</td>\n",
              "      <td>1</td>\n",
              "      <td>0</td>\n",
              "      <td>0</td>\n",
              "      <td>0</td>\n",
              "      <td>0</td>\n",
              "      <td>0</td>\n",
              "      <td>0</td>\n",
              "      <td>0</td>\n",
              "      <td>0</td>\n",
              "      <td>...</td>\n",
              "      <td>1</td>\n",
              "      <td>0</td>\n",
              "      <td>0</td>\n",
              "      <td>1</td>\n",
              "      <td>0</td>\n",
              "      <td>0</td>\n",
              "      <td>0</td>\n",
              "      <td>0</td>\n",
              "      <td>0</td>\n",
              "      <td>2</td>\n",
              "    </tr>\n",
              "    <tr>\n",
              "      <th>...</th>\n",
              "      <td>...</td>\n",
              "      <td>...</td>\n",
              "      <td>...</td>\n",
              "      <td>...</td>\n",
              "      <td>...</td>\n",
              "      <td>...</td>\n",
              "      <td>...</td>\n",
              "      <td>...</td>\n",
              "      <td>...</td>\n",
              "      <td>...</td>\n",
              "      <td>...</td>\n",
              "      <td>...</td>\n",
              "      <td>...</td>\n",
              "      <td>...</td>\n",
              "      <td>...</td>\n",
              "      <td>...</td>\n",
              "      <td>...</td>\n",
              "      <td>...</td>\n",
              "      <td>...</td>\n",
              "      <td>...</td>\n",
              "      <td>...</td>\n",
              "    </tr>\n",
              "    <tr>\n",
              "      <th>2372</th>\n",
              "      <td>0</td>\n",
              "      <td>0</td>\n",
              "      <td>0</td>\n",
              "      <td>0</td>\n",
              "      <td>0</td>\n",
              "      <td>0</td>\n",
              "      <td>0</td>\n",
              "      <td>0</td>\n",
              "      <td>0</td>\n",
              "      <td>1</td>\n",
              "      <td>...</td>\n",
              "      <td>0</td>\n",
              "      <td>0</td>\n",
              "      <td>1</td>\n",
              "      <td>0</td>\n",
              "      <td>0</td>\n",
              "      <td>0</td>\n",
              "      <td>0</td>\n",
              "      <td>0</td>\n",
              "      <td>0</td>\n",
              "      <td>0</td>\n",
              "    </tr>\n",
              "    <tr>\n",
              "      <th>2373</th>\n",
              "      <td>0</td>\n",
              "      <td>0</td>\n",
              "      <td>0</td>\n",
              "      <td>0</td>\n",
              "      <td>0</td>\n",
              "      <td>1</td>\n",
              "      <td>0</td>\n",
              "      <td>0</td>\n",
              "      <td>0</td>\n",
              "      <td>0</td>\n",
              "      <td>...</td>\n",
              "      <td>6</td>\n",
              "      <td>1</td>\n",
              "      <td>4</td>\n",
              "      <td>1</td>\n",
              "      <td>0</td>\n",
              "      <td>0</td>\n",
              "      <td>0</td>\n",
              "      <td>0</td>\n",
              "      <td>0</td>\n",
              "      <td>0</td>\n",
              "    </tr>\n",
              "    <tr>\n",
              "      <th>2374</th>\n",
              "      <td>0</td>\n",
              "      <td>0</td>\n",
              "      <td>0</td>\n",
              "      <td>0</td>\n",
              "      <td>0</td>\n",
              "      <td>0</td>\n",
              "      <td>0</td>\n",
              "      <td>0</td>\n",
              "      <td>0</td>\n",
              "      <td>0</td>\n",
              "      <td>...</td>\n",
              "      <td>0</td>\n",
              "      <td>1</td>\n",
              "      <td>1</td>\n",
              "      <td>1</td>\n",
              "      <td>0</td>\n",
              "      <td>0</td>\n",
              "      <td>0</td>\n",
              "      <td>0</td>\n",
              "      <td>0</td>\n",
              "      <td>0</td>\n",
              "    </tr>\n",
              "    <tr>\n",
              "      <th>2375</th>\n",
              "      <td>0</td>\n",
              "      <td>0</td>\n",
              "      <td>0</td>\n",
              "      <td>0</td>\n",
              "      <td>0</td>\n",
              "      <td>0</td>\n",
              "      <td>0</td>\n",
              "      <td>0</td>\n",
              "      <td>0</td>\n",
              "      <td>0</td>\n",
              "      <td>...</td>\n",
              "      <td>0</td>\n",
              "      <td>0</td>\n",
              "      <td>1</td>\n",
              "      <td>0</td>\n",
              "      <td>0</td>\n",
              "      <td>0</td>\n",
              "      <td>0</td>\n",
              "      <td>0</td>\n",
              "      <td>0</td>\n",
              "      <td>0</td>\n",
              "    </tr>\n",
              "    <tr>\n",
              "      <th>2376</th>\n",
              "      <td>0</td>\n",
              "      <td>0</td>\n",
              "      <td>0</td>\n",
              "      <td>0</td>\n",
              "      <td>0</td>\n",
              "      <td>0</td>\n",
              "      <td>0</td>\n",
              "      <td>0</td>\n",
              "      <td>0</td>\n",
              "      <td>0</td>\n",
              "      <td>...</td>\n",
              "      <td>0</td>\n",
              "      <td>0</td>\n",
              "      <td>0</td>\n",
              "      <td>0</td>\n",
              "      <td>0</td>\n",
              "      <td>0</td>\n",
              "      <td>0</td>\n",
              "      <td>0</td>\n",
              "      <td>0</td>\n",
              "      <td>0</td>\n",
              "    </tr>\n",
              "  </tbody>\n",
              "</table>\n",
              "<p>2377 rows × 296 columns</p>\n",
              "</div>\n",
              "      <button class=\"colab-df-convert\" onclick=\"convertToInteractive('df-3a78456a-6b4c-4835-a0ef-27fb0d952564')\"\n",
              "              title=\"Convert this dataframe to an interactive table.\"\n",
              "              style=\"display:none;\">\n",
              "        \n",
              "  <svg xmlns=\"http://www.w3.org/2000/svg\" height=\"24px\"viewBox=\"0 0 24 24\"\n",
              "       width=\"24px\">\n",
              "    <path d=\"M0 0h24v24H0V0z\" fill=\"none\"/>\n",
              "    <path d=\"M18.56 5.44l.94 2.06.94-2.06 2.06-.94-2.06-.94-.94-2.06-.94 2.06-2.06.94zm-11 1L8.5 8.5l.94-2.06 2.06-.94-2.06-.94L8.5 2.5l-.94 2.06-2.06.94zm10 10l.94 2.06.94-2.06 2.06-.94-2.06-.94-.94-2.06-.94 2.06-2.06.94z\"/><path d=\"M17.41 7.96l-1.37-1.37c-.4-.4-.92-.59-1.43-.59-.52 0-1.04.2-1.43.59L10.3 9.45l-7.72 7.72c-.78.78-.78 2.05 0 2.83L4 21.41c.39.39.9.59 1.41.59.51 0 1.02-.2 1.41-.59l7.78-7.78 2.81-2.81c.8-.78.8-2.07 0-2.86zM5.41 20L4 18.59l7.72-7.72 1.47 1.35L5.41 20z\"/>\n",
              "  </svg>\n",
              "      </button>\n",
              "      \n",
              "  <style>\n",
              "    .colab-df-container {\n",
              "      display:flex;\n",
              "      flex-wrap:wrap;\n",
              "      gap: 12px;\n",
              "    }\n",
              "\n",
              "    .colab-df-convert {\n",
              "      background-color: #E8F0FE;\n",
              "      border: none;\n",
              "      border-radius: 50%;\n",
              "      cursor: pointer;\n",
              "      display: none;\n",
              "      fill: #1967D2;\n",
              "      height: 32px;\n",
              "      padding: 0 0 0 0;\n",
              "      width: 32px;\n",
              "    }\n",
              "\n",
              "    .colab-df-convert:hover {\n",
              "      background-color: #E2EBFA;\n",
              "      box-shadow: 0px 1px 2px rgba(60, 64, 67, 0.3), 0px 1px 3px 1px rgba(60, 64, 67, 0.15);\n",
              "      fill: #174EA6;\n",
              "    }\n",
              "\n",
              "    [theme=dark] .colab-df-convert {\n",
              "      background-color: #3B4455;\n",
              "      fill: #D2E3FC;\n",
              "    }\n",
              "\n",
              "    [theme=dark] .colab-df-convert:hover {\n",
              "      background-color: #434B5C;\n",
              "      box-shadow: 0px 1px 3px 1px rgba(0, 0, 0, 0.15);\n",
              "      filter: drop-shadow(0px 1px 2px rgba(0, 0, 0, 0.3));\n",
              "      fill: #FFFFFF;\n",
              "    }\n",
              "  </style>\n",
              "\n",
              "      <script>\n",
              "        const buttonEl =\n",
              "          document.querySelector('#df-3a78456a-6b4c-4835-a0ef-27fb0d952564 button.colab-df-convert');\n",
              "        buttonEl.style.display =\n",
              "          google.colab.kernel.accessAllowed ? 'block' : 'none';\n",
              "\n",
              "        async function convertToInteractive(key) {\n",
              "          const element = document.querySelector('#df-3a78456a-6b4c-4835-a0ef-27fb0d952564');\n",
              "          const dataTable =\n",
              "            await google.colab.kernel.invokeFunction('convertToInteractive',\n",
              "                                                     [key], {});\n",
              "          if (!dataTable) return;\n",
              "\n",
              "          const docLinkHtml = 'Like what you see? Visit the ' +\n",
              "            '<a target=\"_blank\" href=https://colab.research.google.com/notebooks/data_table.ipynb>data table notebook</a>'\n",
              "            + ' to learn more about interactive tables.';\n",
              "          element.innerHTML = '';\n",
              "          dataTable['output_type'] = 'display_data';\n",
              "          await google.colab.output.renderOutput(dataTable, element);\n",
              "          const docLink = document.createElement('div');\n",
              "          docLink.innerHTML = docLinkHtml;\n",
              "          element.appendChild(docLink);\n",
              "        }\n",
              "      </script>\n",
              "    </div>\n",
              "  </div>\n",
              "  "
            ]
          },
          "metadata": {}
        }
      ],
      "source": [
        "# get the best features\n",
        "mIS = [0]*x_train_NewsGroup.shape[0]\n",
        "best_feats_ordered=[0]*4\n",
        "best_feats = [0]*4\n",
        "for y in range(len(encoded_train[1])):\n",
        "  i=0\n",
        "  for column in range(x_train_NewsGroup.shape[1]):  # for each feature, calculate Mutual Information (MI)\n",
        "    mIS[column] = mutual_info_score(labels_true=encoded_train[:,y], labels_pred=x_train_NewsGroup.to_numpy()[:,column])\n",
        "    i+=1\n",
        "  best_feats_ordered[y]=((np.argsort(mIS)[::-1])[:5]).tolist() # find the 5 best values for each category\n",
        "  best_feats[y] = set((np.argsort(mIS)[::-1])[:100]) # find the 100 best features for each category and make a set\n",
        "select_feat = list(best_feats[0].union(best_feats[1]).union(best_feats[2]).union(best_feats[3])) # merge the 4 sets into 1 while removing any duplicate\n",
        "\n",
        "#Find the 20 best values for the heat map\n",
        "best5_feat=[] #store the 5 best MIS from each category\n",
        "for num in best_feats_ordered:\n",
        "  for x in num:\n",
        "    best5_feat.append(x)\n",
        "\n",
        "newl=[] #store the tokenized words values\n",
        "for x in best5_feat:\n",
        "  newl.append(x_train_NewsGroup.columns[x])\n",
        "\n",
        "print(f'Here are the best 20 features, 5 from each category: {count_vect.get_feature_names_out()[newl]}')\n",
        "\n",
        "# only keep the best features in the initial arrays\n",
        "best_features=[]\n",
        "for x in select_feat:\n",
        "  best_features.append(x_train_NewsGroup.columns[x])\n",
        "\n",
        "x_train_NewsGroup=x_train_NewsGroup[:][best_features]\n",
        "x_test_NewsGroup=x_test_NewsGroup[:][best_features]\n"
      ]
    },
    {
      "cell_type": "markdown",
      "metadata": {
        "id": "AyAu1wuftE6x"
      },
      "source": [
        "# **TASK 2: Implement Logistic and Multiclass classifiers**"
      ]
    },
    {
      "cell_type": "markdown",
      "metadata": {
        "id": "L_V_qGj1tHlw"
      },
      "source": [
        "HELPER FUNCTIONS:"
      ]
    },
    {
      "cell_type": "code",
      "execution_count": null,
      "metadata": {
        "id": "F5jGSpk-sp3C"
      },
      "outputs": [],
      "source": [
        "# LOGISTIC FUNC:\n",
        "logistic = lambda z: 1./(1 + np.exp(-z))\n",
        "\n",
        "# ACCURACCY CHECKING:\n",
        "def accuracy(y, y_pred):\n",
        "  y=np.array(y)\n",
        "  y_pred=np.array(y_pred)\n",
        "  accuracy = sum(np.array(y_pred.argmax(axis=1) == y.argmax(axis=1)))\n",
        "  accuracy /= y.shape[0]\n",
        "  return accuracy"
      ]
    },
    {
      "cell_type": "markdown",
      "metadata": {
        "id": "6gZZqq4ltQT8"
      },
      "source": [
        "***Logistic regression:***"
      ]
    },
    {
      "cell_type": "code",
      "execution_count": null,
      "metadata": {
        "id": "50sc942e4Qqf"
      },
      "outputs": [],
      "source": [
        "class LogisticRegression:\n",
        "\n",
        "  def __init__(self, numIter=1000, stepSize=0.001, tolerance=1e-4): #Set the maximal number of iterations, step size, and tolerance\n",
        "    self.numbIter = numIter\n",
        "    self.stepSize = stepSize\n",
        "    self.tolerance = tolerance\n",
        "\n",
        "  def gradient(self, ypred): #Calculating the gradient\n",
        "    return np.matmul(np.transpose(self.x), ypred-self.y)/len(self.x)\n",
        "\n",
        "  def ce(self,a): #calculating cross entropy for logistic regression\n",
        "      return np.sum(self.y*np.log1p(np.exp(-a))+(1-self.y)*np.log1p(np.exp(a)))\n",
        "\n",
        "  def fit(self, x, y):\n",
        "    self.x = np.array(x)\n",
        "    self.y = np.array(y)\n",
        "    self.w = np.zeros(len(self.x[0]))\n",
        "    grad_norm = np.inf # set an initial large value to gradient norm\n",
        "    iteration = 0\n",
        "    iter_list = [] #store each iteration\n",
        "    ce_list = [] #store each cross entropy score at each iteration\n",
        "\n",
        "    while (grad_norm>self.tolerance and iteration<self.numbIter): # implement gradient descent until the tolerance is reached or maximal number of iteration is reach\n",
        "      a = np.matmul(self.x, np.transpose(self.w)) #calculate a=x*w\n",
        "      ce = self.ce(a) # find the cross entropy for a\n",
        "      iter_list.append(iteration)\n",
        "      ce_list.append(ce)\n",
        "      y_pred = logistic(a) # find the prediction for a\n",
        "      grad = self.gradient(y_pred) # perform gradient calculation on that prediction\n",
        "      self.w -= self.stepSize*grad # modify the weights\n",
        "      grad_norm = np.linalg.norm(grad) # calculate gradient norm\n",
        "      iteration += 1\n",
        "\n",
        "    return iter_list, ce_list, self.w\n",
        "\n",
        "  def predict(self,x): # predict using logistic function\n",
        "    a = np.matmul(x, np.transpose(self.w))\n",
        "    y_pred = logistic(a)\n",
        "    return y_pred\n",
        "\n",
        "  def gradient_check(self,x,y): # gradient check to verify that our gradient calculation is correct\n",
        "    w = self.w.copy()\n",
        "    N,D=x.shape\n",
        "    epsilon = np.random.randn(1)[0] * self.tolerance # initalize epsilon\n",
        "    diff=np.zeros((D,1))\n",
        "\n",
        "    self.w=self.w+epsilon # find J1 and reset w\n",
        "    a1 = np.matmul(self.w,x.transpose())\n",
        "    J1=self.ce(a1)\n",
        "    self.w=w\n",
        "\n",
        "    self.w=self.w-epsilon # find J2 and reset w\n",
        "    a2 = np.matmul(self.w,x.transpose())\n",
        "    J2=self.ce(a2)\n",
        "    self.w=w\n",
        "\n",
        "    dw_num = (J1 - J2)/(2*epsilon) # numerical gradient calculation\n",
        "\n",
        "    yh = 1/(1+np.exp(-np.matmul(x, w.transpose())))\n",
        "    dw_cal =np.sum(np.matmul(x.transpose(),(yh - y))) # derived gradient calculation\n",
        "\n",
        "    diff=np.square(dw_cal - dw_num).sum()/np.square(dw_cal + dw_num).sum()\n",
        "\n",
        "    return diff"
      ]
    },
    {
      "cell_type": "markdown",
      "metadata": {
        "id": "5QbYRKJTtWgg"
      },
      "source": [
        "***Multiclass regression:***"
      ]
    },
    {
      "cell_type": "code",
      "execution_count": null,
      "metadata": {
        "id": "9vue1Jd6r1Rs"
      },
      "outputs": [],
      "source": [
        "class MulticlassRegression:\n",
        "\n",
        "  def __init__(self, numIter=1000, stepSize=0.0001, tolerance=1e-4):            # set parameters given as arguments\n",
        "    self.numIter = numIter\n",
        "    self.stepSize = stepSize\n",
        "    self.tolerance = tolerance\n",
        "\n",
        "  def gradient(self, y_pred):\n",
        "    return np.matmul(np.transpose(self.x), y_pred-self.y)\n",
        "\n",
        "  def fit(self, x, y):\n",
        "    self.x = np.array(x)                                                        # convert the x and y arrays to numpy\n",
        "    self.y = np.array(y)\n",
        "    self.w = np.zeros((len(self.x[1]), len(self.y[1])))                         # starting weight array before regression\n",
        "\n",
        "    grad_norm = np.inf                                                          # start with large norm so that the while loop executes in first iteration\n",
        "    iteration = 0\n",
        "    iter_list = []                                                              # keep track of cross entropy and iteration\n",
        "    ce_list = []\n",
        "\n",
        "    while (grad_norm>self.tolerance and iteration<self.numIter):\n",
        "      a = np.matmul(self.x, self.w)\n",
        "      iter_list.append(iteration)\n",
        "      y_pred = np.exp(a)/np.exp(a).sum(axis=1).reshape(self.x.shape[0],1)\n",
        "      grad = self.gradient(y_pred)/len(self.x)\n",
        "      self.w -= self.stepSize*grad\n",
        "      grad_norm = np.linalg.norm(grad)\n",
        "      iteration += 1\n",
        "      iteration_loss = self.ce()\n",
        "      ce_list.append(iteration_loss)\n",
        "      # print(f\"iter {iteration}: {iteration_loss:.3f}\")\n",
        "    return iter_list, ce_list, self.w\n",
        "\n",
        "  def predict(self, x):\n",
        "    x = np.array(x)\n",
        "    a = np.matmul(x, self.w)\n",
        "    y_pred = np.exp(a)/np.exp(a).sum(axis=1).reshape(x.shape[0],1)\n",
        "    return y_pred\n",
        "\n",
        "  def ce(self):\n",
        "    a = np.matmul(self.x, self.w)\n",
        "    exp1= np.exp(a)\n",
        "    exp2= np.exp(a).sum(axis=1).reshape(self.x.shape[0],1)\n",
        "    return -np.sum(self.y*(np.log(exp1)-np.log(exp2)))/len(self.x)                          # separate log division in a substraction to avoid NaN values\n",
        "\n",
        "  def gradient_check(self):\n",
        "    numClass = self.y.shape[1]\n",
        "    numFeat = self.x.shape[1]\n",
        "\n",
        "    diff = np.zeros((numFeat, numClass))                                        # matrix that will keep track of all the gradient differences\n",
        "\n",
        "    w = self.w.copy()\n",
        "\n",
        "    for i in range(numFeat):\n",
        "        for j in range(numClass):\n",
        "            epsilon = np.zeros((numFeat, numClass))\n",
        "            epsilon[i, j] = np.random.rand()*1e-4\n",
        "\n",
        "            self.w = self.w + epsilon\n",
        "            J1 = self.ce()\n",
        "            self.w = w\n",
        "\n",
        "            self.w = self.w - epsilon\n",
        "            J2 = self.ce()\n",
        "            self.w = w\n",
        "\n",
        "            numeric_grad = (J1 - J2) / (2 * epsilon[i, j])\n",
        "            derived_grad = self.gradient(self.predict(self.x))[i, j]\n",
        "            diff[i, j] = np.square(derived_grad - numeric_grad) / np.square(derived_grad + numeric_grad)\n",
        "\n",
        "    return diff.sum()"
      ]
    },
    {
      "cell_type": "markdown",
      "metadata": {
        "id": "LubKIRQjuI4B"
      },
      "source": [
        "# **TASK 3: Run Experiments**"
      ]
    },
    {
      "cell_type": "markdown",
      "metadata": {
        "id": "y-Egq0r4ufMW"
      },
      "source": [
        "***Predict on the IMBd Dataset:***"
      ]
    },
    {
      "cell_type": "code",
      "execution_count": null,
      "metadata": {
        "id": "GbhEzAEFr-Ic"
      },
      "outputs": [],
      "source": [
        "#Turning numerical ratings into 0's and 1's based on whether the rating is negative or positive\n",
        "yTrain = (np.array(y_train[:])>5).astype(int)\n",
        "yTest = (np.array(y_train[:])>5).astype(int)\n",
        "\n",
        "#Below, we will be comparing the Logistic Regression function to KNN\n",
        "#First, we need to find the best K value for the IMDB dataset by seperating the training dataset into training and validation, as shown below\n",
        "indices_valid = (np.random.permutation(ds_Train_Bow.shape[0]))[:int(ds_Train_Bow.shape[0]*0.25)]\n",
        "indices_train = (np.random.permutation(ds_Train_Bow.shape[0]))[int(ds_Train_Bow.shape[0]*0.25):]\n",
        "train_x = pd.DataFrame(np.array(ds_Train_Bow.copy().iloc[list(indices_train)]))\n",
        "valid_x = pd.DataFrame(np.array(ds_Train_Bow.copy().iloc[list(indices_valid)]))\n",
        "\n",
        "train_y = np.zeros(len(indices_train))\n",
        "for i in range(len(train_y)):\n",
        "  train_y[i] = yTrain[indices_train[i]]\n",
        "\n",
        "valid_y = np.zeros(len(indices_valid))\n",
        "for i in range(len(valid_y)):\n",
        "  valid_y[i] = yTrain[indices_valid[i]]\n",
        "\n",
        "#Below, we loop through values of K between 1 and 15 and append the validation accuracies of each K into the knn_accs array\n",
        "knn_accs = []\n",
        "for k in range(1, 15):\n",
        "  knn = KNeighborsClassifier(n_neighbors=k)\n",
        "  knn.fit(train_x, train_y)\n",
        "  y_pred = knn.predict(valid_x)\n",
        "  acc = 0\n",
        "  for i in range(len(valid_y)):\n",
        "    if valid_y[i] == y_pred[i]:\n",
        "      acc = acc + 1\n",
        "  knn_accs.append(acc/len(valid_y))\n",
        "\n",
        "#Find the k-value corresponding to the highest observed validation accuracy\n",
        "best_k = np.argmax(np.array(knn_accs))+1\n",
        "\n",
        "#The function below will graph the ROCs for the IMDB dataset with four different algorithms: our logistic regression function, and Sklearn's logistic regression, Stochastic Gradient Descent (SGD), and KNN algorithms\n",
        "#It takes inputs maximum number of iterations (max_iter), step size value alpha, tolerance value, as well as the fraction of training data to be used (if show != 'no', the graph will be displayed)\n",
        "def graphingROC_IMDB(max_iter, alpha, tol, fraction_training=1, show = 'no'):\n",
        "  #Turning numerical ratings into 0's and 1's based on whether the rating is negative or positive\n",
        "  yTrain = (np.array(y_train[:])>5).astype(int)\n",
        "  yTest = (np.array(y_train[:])>5).astype(int)\n",
        "\n",
        "  #Below, we randomly select the specific fraction of training data that was inputed by the user\n",
        "  np.random.seed(1234)\n",
        "  indices_array = (np.random.permutation(ds_Train_Bow.shape[0]))[:int(ds_Train_Bow.shape[0]*fraction_training)]\n",
        "  training_x = pd.DataFrame(np.array(ds_Train_Bow.copy().iloc[list(indices_array)]))\n",
        "  training_y = np.zeros(len(indices_array))\n",
        "  for i in range(len(training_y)):\n",
        "    training_y[i] = yTrain[indices_array[i]]\n",
        "\n",
        "  #Perform logistic regression with given parameters\n",
        "  logist_reg = LogisticRegression(numIter = max_iter, stepSize = alpha, tolerance = tol)\n",
        "  logist_reg.fit(x=training_x, y=training_y)\n",
        "  y_pred1 = logist_reg.predict(ds_Test_Bow)\n",
        "\n",
        "  #Perform Sklearn's KNN algorithm with the optimal k-value found previously\n",
        "  knn = KNeighborsClassifier(n_neighbors=best_k)\n",
        "  knn.fit(training_x, training_y)\n",
        "  y_pred2 = knn.predict(ds_Test_Bow)\n",
        "\n",
        "  #Perform Sklearn's Stochastic Gradient descent algorithm, which takes the same paramters as Logistic Regression\n",
        "  sk_logist_reg = SGDClassifier(max_iter=max_iter, alpha=alpha, tol=tol)\n",
        "  sk_logist_reg.fit(X = training_x, y = training_y)\n",
        "  y_pred3 = sk_logist_reg.predict(X = ds_Test_Bow)\n",
        "\n",
        "  #Perform sklearn's logistic regression, which only takes the parameter max_iter (cannot choose a specific learning rate or tolerance)\n",
        "  sk_logist_reg = sk_LogisticRegression(max_iter=max_iter)\n",
        "  sk_logist_reg.fit(X = training_x, y = training_y)\n",
        "  y_pred4 = sk_logist_reg.predict(X = ds_Test_Bow)\n",
        "\n",
        "  #Plot the ROCs of the 4 algorithms, and find corresponding AUROCs\n",
        "  plt.clf()\n",
        "  fpr1, tpr1, _= roc_curve(yTest, y_pred1)\n",
        "  auroc1 = roc_auc_score(yTest, y_pred1)\n",
        "  plt.plot(fpr1,tpr1,'lightsteelblue', label=\"Logistic Regression\")\n",
        "  plt.text(0.4, 0.1, \"Logistic Regression AUC \" + str(round(auroc1,2)))\n",
        "\n",
        "  fpr2, tpr2, _ = roc_curve(yTest,y_pred2)\n",
        "  auroc2 = roc_auc_score(yTest, y_pred2)\n",
        "  plt.plot(fpr2,tpr2,'plum', label=('Sklearn KNN (K='+str(best_k)+')'))\n",
        "  plt.text(0.4, 0.2, \"Sklearn KNN AUC \" + str(round(auroc2,2)))\n",
        "\n",
        "  fpr3, tpr3, _ = roc_curve(yTest,y_pred3)\n",
        "  auroc3 = roc_auc_score(yTest, y_pred3)\n",
        "  plt.plot(fpr3,tpr3, 'yellowgreen', label=\"Sklearn SGD\")\n",
        "  plt.text(0.4, 0.3, \"Sklearn SGD AUC \" + str(round(auroc3,2)))\n",
        "\n",
        "  fpr4, tpr4, _ = roc_curve(yTest, y_pred4)\n",
        "  auroc4 = roc_auc_score(yTest, y_pred4)\n",
        "  plt.plot(fpr4,tpr4,'sandybrown', label=\"Sklearn Logistic Regression\")\n",
        "  plt.text(0.4, 0.4, \"Sklearn Logistic Regression AUC \" + str(round(auroc4,2)))\n",
        "  plt.xlabel(\"False Positive Rate\")\n",
        "  plt.ylabel(\"True Positive Rate\")\n",
        "  plt.title('ROC movie sentiment prediction with Max. Iter = ' + str(max_iter) + ',\\nalpha = ' + str(alpha) + ', and tolerance = ' + str(tol) + ' using ' + str(fraction_training*100) + '% of the training data')\n",
        "  plt.legend(bbox_to_anchor=(1.04, 0.5), loc=\"upper left\")\n",
        "  if show == 'no': #If show == 'no', do not display the graph\n",
        "    plt.close()\n",
        "\n",
        "  return (round(auroc1,2)), (round(auroc2,2)), (round(auroc3,2)), (round(auroc4,2)) #Function returns the AUROCs of the 4 algorithms"
      ]
    },
    {
      "cell_type": "markdown",
      "metadata": {
        "id": "6ICzYgZYsFjZ"
      },
      "source": [
        "Predicting with different fractions of training dataset:"
      ]
    },
    {
      "cell_type": "code",
      "execution_count": null,
      "metadata": {
        "id": "Xh1JnDnssB0X"
      },
      "outputs": [],
      "source": [
        "lr_auroc = [] #List of AUROCs for our logistic regression algorithm\n",
        "knn_auroc = [] #List of AUROCs for our KNN algorithm\n",
        "graph1 = graphingROC_IMDB(max_iter=1000, alpha=0.01, tol=1e-3, fraction_training=0.2) #Only 20% of training data is used for prediction\n",
        "lr_auroc.append(graph1[0]) #Add Linear Regression AUROC to the lr_auroc list\n",
        "knn_auroc.append(graph1[1]) #Add KNN AUROC to the knn_auroc list"
      ]
    },
    {
      "cell_type": "code",
      "execution_count": null,
      "metadata": {
        "id": "QnJotbr9sLEx"
      },
      "outputs": [],
      "source": [
        "graph2 = graphingROC_IMDB(max_iter=1000, alpha=0.01, tol=1e-3, fraction_training=0.4) #40% of training data is used\n",
        "lr_auroc.append(graph2[0])\n",
        "knn_auroc.append(graph2[1])"
      ]
    },
    {
      "cell_type": "code",
      "execution_count": null,
      "metadata": {
        "id": "YKUa9RdhsO7L"
      },
      "outputs": [],
      "source": [
        "graph3 = graphingROC_IMDB(max_iter=1000, alpha=0.01, tol=1e-3, fraction_training=0.6) #60% of training data is used\n",
        "lr_auroc.append(graph3[0])\n",
        "knn_auroc.append(graph3[1])"
      ]
    },
    {
      "cell_type": "code",
      "execution_count": null,
      "metadata": {
        "id": "D-hCMcIbsQla"
      },
      "outputs": [],
      "source": [
        "graph4 = graphingROC_IMDB(max_iter=1000, alpha=0.01, tol=1e-3, fraction_training=0.8) #80% of training data is used\n",
        "lr_auroc.append(graph4[0])\n",
        "knn_auroc.append(graph4[1])"
      ]
    },
    {
      "cell_type": "code",
      "execution_count": null,
      "metadata": {
        "colab": {
          "base_uri": "https://localhost:8080/",
          "height": 310
        },
        "id": "s4BxSIJ8sR_m",
        "outputId": "563a5eae-cedb-46a3-a9ed-d1e78306ed3c"
      },
      "outputs": [
        {
          "output_type": "display_data",
          "data": {
            "text/plain": [
              "<Figure size 432x288 with 1 Axes>"
            ],
            "image/png": "[encoded data removed]"
          },
          "metadata": {
            "needs_background": "light"
          }
        }
      ],
      "source": [
        "graph5= graphingROC_IMDB(max_iter=1000, alpha=0.01, tol=1e-3, fraction_training=1, show='yes') #100% of training data is used, and graph is displayed\n",
        "lr_auroc.append(graph5[0])\n",
        "knn_auroc.append(graph5[1])\n"
      ]
    },
    {
      "cell_type": "code",
      "source": [
        "# Gradient check\n",
        "yTrain = (np.array(y_train[:])>5).astype(int)\n",
        "logist=LogisticRegression()\n",
        "logist.fit(ds_Train_Bow,yTrain)\n",
        "grad=logist.gradient_check(ds_Train_Bow.to_numpy(),yTrain)\n",
        "print(f'The gradient check: {grad}')"
      ],
      "metadata": {
        "colab": {
          "base_uri": "https://localhost:8080/"
        },
        "id": "nHvisQjDsL1h",
        "outputId": "d8787b56-ae49-4881-f554-c9d592996916"
      },
      "execution_count": null,
      "outputs": [
        {
          "output_type": "stream",
          "name": "stdout",
          "text": [
            "The gradient check: 3.1763695195691243e-16\n"
          ]
        }
      ]
    },
    {
      "cell_type": "code",
      "execution_count": null,
      "metadata": {
        "colab": {
          "base_uri": "https://localhost:8080/",
          "height": 310
        },
        "id": "nwF3vyezsWgJ",
        "outputId": "26c88756-3b12-441d-9657-126e1225cd28"
      },
      "outputs": [
        {
          "output_type": "display_data",
          "data": {
            "text/plain": [
              "<Figure size 432x288 with 1 Axes>"
            ],
            "image/png": "[encoded data removed]"
          },
          "metadata": {
            "needs_background": "light"
          }
        }
      ],
      "source": [
        "#Below, we are making a bar plot of the AUROCs for KNN and logistic regression as a function of the amount of training data used\n",
        "training_percentages = ['20%','40%','60%','80%', '100%']\n",
        "\n",
        "x = np.arange(len(training_percentages))\n",
        "\n",
        "plt.bar(x - 0.2, lr_auroc, 0.4, label = 'Logistic Regression', color = 'lightsteelblue')\n",
        "plt.bar(x + 0.2, knn_auroc, 0.4, label = ('Sklearn KNN (K='+str(best_k)+')'), color = 'plum')\n",
        "\n",
        "plt.xticks(x, training_percentages)\n",
        "plt.xlabel(\"Percentage of Training Data Used\")\n",
        "plt.ylabel(\"AUROC\")\n",
        "plt.title(\"AUROCs of Logistic Regression and Sklearn's KNN algorithms \\nwith varying percentage of training data used\")\n",
        "plt.ylim(0.6, 0.92)\n",
        "plt.legend()\n",
        "plt.show()"
      ]
    },
    {
      "cell_type": "markdown",
      "source": [
        "Implementing Linear Regression to predict the ratings of the IMDb test data:"
      ],
      "metadata": {
        "id": "Yu4etLInSwY-"
      }
    },
    {
      "cell_type": "code",
      "execution_count": null,
      "metadata": {
        "id": "hN8mjwnHuP36"
      },
      "outputs": [],
      "source": [
        "from sklearn.linear_model import LinearRegression\n",
        "\n",
        "#The function below will use sklearn's linear regression algorithm and attempt to predict the ratings of the testing data with varying percentage of training data used\n",
        "def sk_linear_reg(train_x, train_y, test_x, test_y, fraction_training):\n",
        "  np.random.seed(1234)\n",
        "  indices_array = (np.random.permutation(train_x.shape[0]))[:int(train_x.shape[0]*fraction_training)]\n",
        "  training_x = pd.DataFrame(np.array(train_x.copy().iloc[list(indices_array)]))\n",
        "  training_y = np.zeros(len(indices_array))\n",
        "  for i in range(len(training_y)):\n",
        "    training_y[i] = train_y[indices_array[i]]\n",
        "\n",
        "  #Conduct linear regression\n",
        "  LR = LinearRegression()\n",
        "  LR.fit(X = training_x, y = training_y)\n",
        "  y_pred = np.around(LR.predict(test_x), 0)\n",
        "  test_pred = []\n",
        "  for i in range(len(y_pred)):\n",
        "    test_pred.append((test_y[i]-y_pred[i])**2)\n",
        "  rmse = np.sqrt(np.average(np.array(test_pred)))\n",
        "  return rmse/(10-1) #Function returns the Normalized Root Mean Squared Error observed (dividing by 10-1 involves normalizing the rmse by dividing by max-min of possible output values)\n",
        "\n",
        "#Determine RMSE with varying percentage of training data used\n",
        "percentages = [20, 40, 60, 80, 100]\n",
        "rmse = []\n",
        "for percent in percentages:\n",
        "  rmse.append(sk_linear_reg(ds_Train_Bow, y_train, ds_Test_Bow, y_test, percent/100))\n",
        "\n",
        "#Determine RMSE with varying percentage of training data used, but only with the top 10 negative features and top 10 positive\n",
        "rmse_best_feat = []\n",
        "for percent in percentages:\n",
        "  rmse_best_feat.append(sk_linear_reg(ds_Train_Bow[:][indices_of_best], y_train, ds_Test_Bow[:][indices_of_best], y_test, percent/100))"
      ]
    },
    {
      "cell_type": "code",
      "execution_count": null,
      "metadata": {
        "colab": {
          "base_uri": "https://localhost:8080/",
          "height": 325
        },
        "id": "THlxFPAwuQpr",
        "outputId": "5b9bedd3-1984-4945-9488-ed66d264bc1a"
      },
      "outputs": [
        {
          "output_type": "display_data",
          "data": {
            "text/plain": [
              "<Figure size 432x288 with 1 Axes>"
            ],
            "image/png": "[encoded data removed]"
          },
          "metadata": {
            "needs_background": "light"
          }
        }
      ],
      "source": [
        "#Plotting the Normalized RMSEs obtained above\n",
        "plt.bar(x - 0.2, np.array(rmse), 0.4, label = '100 Top Features', color = 'lightsteelblue')\n",
        "plt.bar(x + 0.2, np.array(rmse_best_feat), 0.4, label = '10 Top Negative & 10 Top \\nPositive Features', color = 'plum')\n",
        "\n",
        "plt.xticks(x, training_percentages)\n",
        "plt.xlabel(\"Percentage of Training Data Used\")\n",
        "plt.ylabel(\"Normalized Root Mean Squared Error\")\n",
        "plt.title(\"Normalized Root Mean Squared Error of Linear Regression \\nfor the prediction of the rating of IMDB reviews while varying \\nthe percentage of training data and the features used.\")\n",
        "plt.ylim(0, 0.45)\n",
        "plt.legend()\n",
        "plt.show()"
      ]
    },
    {
      "cell_type": "markdown",
      "source": [
        "Determining the weights of the top 10 positive and top 10 negative features:"
      ],
      "metadata": {
        "id": "50YfGg9oTEyy"
      }
    },
    {
      "cell_type": "code",
      "execution_count": null,
      "metadata": {
        "colab": {
          "base_uri": "https://localhost:8080/",
          "height": 310
        },
        "id": "oRln2qh2uUJX",
        "outputId": "533ef751-85c7-46a1-e2cf-3addb4a5292b"
      },
      "outputs": [
        {
          "output_type": "display_data",
          "data": {
            "text/plain": [
              "<Figure size 432x288 with 1 Axes>"
            ],
            "image/png": "[encoded data removed]"
          },
          "metadata": {
            "needs_background": "light"
          }
        }
      ],
      "source": [
        "#Turning numerical ratings into 0's and 1's based on whether the rating is negative or positive\n",
        "yTrain = (np.array(y_train[:])>5).astype(int)\n",
        "yTest = (np.array(y_train[:])>5).astype(int)\n",
        "\n",
        "logist_reg = LogisticRegression()\n",
        "w = (logist_reg.fit(x=ds_Train_Bow[:][indices_of_best], y=yTrain))[2] #Find weights for the top 10 negative and top 10 positive features\n",
        "#Plotting weights of each words below\n",
        "plt.barh(negVocab, w[0:10], align='center', color='tomato')\n",
        "plt.barh(posVocab, w[10:20], align='center', color='yellowgreen')\n",
        "plt.title('Bar Plot of Top 10 Negative & Top 10 Positive Feature \\nNames With Corresponding Weights')\n",
        "plt.legend(['Negative Vocabulary', 'Positive Vocabulary'])\n",
        "plt.xlabel('Weight Value')\n",
        "plt.ylabel('Feature Name')\n",
        "plt.show()"
      ]
    },
    {
      "cell_type": "markdown",
      "source": [
        "Testing different step size values:"
      ],
      "metadata": {
        "id": "GENZnBz2TMiY"
      }
    },
    {
      "cell_type": "code",
      "execution_count": null,
      "metadata": {
        "id": "lXzNqvlHuYpK"
      },
      "outputs": [],
      "source": [
        "yTrain = (np.array(y_train[:])>5).astype(int)\n",
        "yTest = (np.array(y_train[:])>5).astype(int)\n",
        "\n",
        "#Below, we find the AUROCs of the logistic regression algorithm with varying step size alpha\n",
        "alphas = [1, 0.1, 0.001, 0.0001]\n",
        "aurocs = []\n",
        "for alpha in alphas:\n",
        "  logist_reg = LogisticRegression(numIter=1000, stepSize=alpha, tolerance = 1e-1)\n",
        "  logist_reg.fit(x=ds_Train_Bow, y=yTrain)\n",
        "  y_pred = logist_reg.predict(ds_Test_Bow)\n",
        "  auroc = roc_auc_score(yTest, y_pred)\n",
        "  aurocs.append(auroc)"
      ]
    },
    {
      "cell_type": "code",
      "execution_count": null,
      "metadata": {
        "colab": {
          "base_uri": "https://localhost:8080/",
          "height": 295
        },
        "id": "PqQLCACxue2i",
        "outputId": "bfa45af4-4fca-4880-e89b-3beae932239a"
      },
      "outputs": [
        {
          "output_type": "display_data",
          "data": {
            "text/plain": [
              "<Figure size 432x288 with 1 Axes>"
            ],
            "image/png": "[encoded data removed]"
          },
          "metadata": {
            "needs_background": "light"
          }
        }
      ],
      "source": [
        "#Below, we plot a bar plot with the AUROCs obtained with each step size value\n",
        "for i in range(len(alphas)):\n",
        "  alphas[i] = str(alphas[i])\n",
        "plt.bar(alphas, aurocs, color = 'lightsteelblue')\n",
        "plt.title('Bar Plot of AUROCs with Varying Step Sizes')\n",
        "plt.ylim((0.7, 0.875))\n",
        "plt.xlabel('Step Size')\n",
        "plt.ylabel('AUROC')\n",
        "plt.show()"
      ]
    },
    {
      "cell_type": "markdown",
      "source": [
        "Convergence plot for logistic regression:"
      ],
      "metadata": {
        "id": "AesMc6IGTSCq"
      }
    },
    {
      "cell_type": "code",
      "execution_count": null,
      "metadata": {
        "colab": {
          "base_uri": "https://localhost:8080/",
          "height": 295
        },
        "id": "xlR2wwzl5TeG",
        "outputId": "5698adb6-0efa-440d-9f7b-14f4b28ff1ed"
      },
      "outputs": [
        {
          "output_type": "display_data",
          "data": {
            "text/plain": [
              "<Figure size 432x288 with 1 Axes>"
            ],
            "image/png": "[encoded data removed]"
          },
          "metadata": {
            "needs_background": "light"
          }
        }
      ],
      "source": [
        "#Below, we are plotting the convergence plot for the logistic regression algorithm\n",
        "yTrain = (np.array(y_train[:])>5).astype(int)\n",
        "logist_reg = LogisticRegression(numIter=1000, stepSize=0.01, tolerance = 1e-4)\n",
        "b = logist_reg.fit(x=ds_Train_Bow, y=yTrain)\n",
        "plt.plot(b[0], np.array(b[1])/len(yTrain))\n",
        "plt.xlabel('Iteration')\n",
        "plt.ylabel('Average Cross-Entropy')\n",
        "plt.title('Convergence Plot of Logistic Regression Algorithm')\n",
        "plt.show()"
      ]
    },
    {
      "cell_type": "markdown",
      "source": [
        "***`Predict on the NewsGroup Dataset:`***\n",
        "\n"
      ],
      "metadata": {
        "id": "5VWkpmVBTfWc"
      }
    },
    {
      "cell_type": "code",
      "execution_count": null,
      "metadata": {
        "id": "HBemIfn45XHZ"
      },
      "outputs": [],
      "source": [
        "#As done previously for the IMDB dataset, the following code is generated to find the best k value by seperating the training dataset into training and validation sets\n",
        "indices_valid = (np.random.permutation(x_train_NewsGroup.shape[0]))[:int(x_train_NewsGroup.shape[0]*0.25)]\n",
        "indices_train = (np.random.permutation(x_train_NewsGroup.shape[0]))[int(x_train_NewsGroup.shape[0]*0.25):]\n",
        "train_x = pd.DataFrame(np.array(pd.DataFrame(x_train_NewsGroup).iloc[list(indices_train)]))\n",
        "valid_x = pd.DataFrame(np.array(pd.DataFrame(x_train_NewsGroup).iloc[list(indices_valid)]))\n",
        "\n",
        "train_y = [0]*(len(indices_train))\n",
        "for i in range(len(indices_train)):\n",
        "  train_y[i] = list(encoded_train[indices_train[i]])\n",
        "\n",
        "valid_y = [0]*(len(indices_valid))\n",
        "for i in range(len(indices_valid)):\n",
        "  valid_y[i] = list(encoded_train[indices_valid[i]])\n",
        "\n",
        "knn_accs = []\n",
        "for k in range(1, 15):\n",
        "  knn = KNeighborsClassifier(n_neighbors=k)\n",
        "  knn.fit(train_x, train_y)\n",
        "  y_pred1 = knn.predict(valid_x)\n",
        "  acc = accuracy(y=valid_y, y_pred=y_pred1)\n",
        "  knn_accs.append(acc)\n",
        "\n",
        "best_k = np.argmax(np.array(knn_accs))+1\n",
        "\n",
        "#The function below returns the accuracies observed for the prediction of the testing set of the NewsGroup data, conducted with the multiclass regression and sklearn's KNN algorithm\n",
        "def multiclass_KNN_acc_NewsGroup(max_iter, alpha, tol, fraction_training=1):\n",
        "  #Below, we randomly select the specific fraction of training data that was inputed by the user\n",
        "  np.random.seed(1234)\n",
        "  indices_array = (np.random.permutation(x_train_NewsGroup.shape[0]))[:int(x_train_NewsGroup.shape[0]*fraction_training)]\n",
        "  training_x = pd.DataFrame(np.array(pd.DataFrame(x_train_NewsGroup).iloc[list(indices_array)]))\n",
        "  training_y = [0]*(len(indices_array))\n",
        "  for i in range(len(training_y)):\n",
        "    training_y[i] = list(encoded_train[indices_array[i]])\n",
        "\n",
        "  multi_Reg = MulticlassRegression() #Conduct multiclass regression\n",
        "  multi_Reg.fit(x=training_x, y=training_y)\n",
        "  y_pred3 = multi_Reg.predict(x_test_NewsGroup)\n",
        "  y_pred3 = (y_pred3>0.5).astype(int)\n",
        "\n",
        "  knn = KNeighborsClassifier(n_neighbors=best_k) #Conduct KNN\n",
        "  knn.fit(training_x, training_y)\n",
        "  y_pred4 = knn.predict(x_test_NewsGroup)\n",
        "\n",
        "  accuracy_multiclass = accuracy(y=encoded_test, y_pred=y_pred3) #Determine the accuracy of multiclass regression\n",
        "  accuracy_KNN = accuracy(y=encoded_test,y_pred=y_pred4) #Determine the accuracy of the sklearn's KNN algorithm\n",
        "\n",
        "  return accuracy_multiclass, accuracy_KNN #Return accuracies"
      ]
    },
    {
      "cell_type": "markdown",
      "source": [
        "Predicting with different fractions of training data:"
      ],
      "metadata": {
        "id": "1VMA0OMTTqE9"
      }
    },
    {
      "cell_type": "code",
      "execution_count": null,
      "metadata": {
        "colab": {
          "base_uri": "https://localhost:8080/",
          "height": 310
        },
        "id": "--zU1jmj5caB",
        "outputId": "e7ce8b39-4de1-42a5-9ade-ea9b20ff91b1"
      },
      "outputs": [
        {
          "output_type": "display_data",
          "data": {
            "text/plain": [
              "<Figure size 432x288 with 1 Axes>"
            ],
            "image/png": "[encoded data removed]"
          },
          "metadata": {
            "needs_background": "light"
          }
        }
      ],
      "source": [
        "percentages = [20, 40, 60, 80, 100]\n",
        "multiclass_acc = []\n",
        "knn_acc = []\n",
        "#Determine the multiclass and KNN prediction accuracies with varying percentages of training data used\n",
        "for percent in percentages:\n",
        "  acc = multiclass_KNN_acc_NewsGroup(1000, 0.0001, 1e-4, fraction_training=percent/100)\n",
        "  multiclass_acc.append(acc[0])\n",
        "  knn_acc.append(acc[1])\n",
        "\n",
        "#Plot the accuracies as a function of the percentage of training data used\n",
        "plt.bar(x - 0.2, np.array(multiclass_acc)*100, 0.4, label = 'Multiclass Regression', color = 'lightsteelblue')\n",
        "plt.bar(x + 0.2, np.array(knn_acc)*100, 0.4, label = ('Sklearn KNN (K='+str(best_k)+')'), color = 'plum')\n",
        "\n",
        "plt.xticks(x, percentages)\n",
        "plt.xlabel(\"Percentage of Training Data Used\")\n",
        "plt.ylabel(\"Accuracy (%)\")\n",
        "plt.title(\"Accuracies of Multiclass Logistic Regression obtained \\nwhile varying the percentage of training data and the features used.\")\n",
        "plt.ylim(0, 95)\n",
        "plt.legend()\n",
        "plt.show()"
      ]
    },
    {
      "cell_type": "markdown",
      "source": [
        "Testing different step size values:"
      ],
      "metadata": {
        "id": "Tl-lf47TTx5c"
      }
    },
    {
      "cell_type": "code",
      "execution_count": null,
      "metadata": {
        "colab": {
          "base_uri": "https://localhost:8080/",
          "height": 295
        },
        "id": "gzETi3HY9HAx",
        "outputId": "0d9db4b9-d602-472c-dd82-edce3eb90313"
      },
      "outputs": [
        {
          "output_type": "display_data",
          "data": {
            "text/plain": [
              "<Figure size 432x288 with 1 Axes>"
            ],
            "image/png": "[encoded data removed]"
          },
          "metadata": {
            "needs_background": "light"
          }
        }
      ],
      "source": [
        "#Below, we iterate through different values for the step size and perform multiclass regression of the NewsGroup dataset to find corresponding prediction accuracies\n",
        "alphas = [0.1, 0.01, 0.001, 0.0001]\n",
        "accs = []\n",
        "for alpha in alphas:\n",
        "  multi_reg = MulticlassRegression(numIter=1000, stepSize=alpha, tolerance = 1e-3)\n",
        "  multi_reg.fit(x=x_train_NewsGroup, y=encoded_train)\n",
        "  y_pred = multi_reg.predict(x_test_NewsGroup)\n",
        "  acc = accuracy(y=encoded_test, y_pred=y_pred)\n",
        "  accs.append(auroc)\n",
        "\n",
        "#Below, we plot the prediction acccuracies observed with the different alpha values\n",
        "for i in range(len(alphas)):\n",
        "  alphas[i] = str(alphas[i])\n",
        "plt.bar(alphas, accs, color = 'lightsteelblue')\n",
        "plt.title('Prediction Accuracies obtained for Multiclass Logistic Regression with Varying Step Size')\n",
        "plt.ylim((0.7, 0.8))\n",
        "plt.xlabel('Step Size')\n",
        "plt.ylabel('Prediction Accuracy (%)')\n",
        "plt.show()"
      ]
    },
    {
      "cell_type": "markdown",
      "source": [
        "Convergence plot for multiclass regression:"
      ],
      "metadata": {
        "id": "5aavd5q6T5tP"
      }
    },
    {
      "cell_type": "code",
      "execution_count": null,
      "metadata": {
        "colab": {
          "base_uri": "https://localhost:8080/",
          "height": 295
        },
        "id": "XSMDD1fJ5UVg",
        "outputId": "720e0c35-4294-4f70-b0a7-4c547fb98c14"
      },
      "outputs": [
        {
          "output_type": "display_data",
          "data": {
            "text/plain": [
              "<Figure size 432x288 with 1 Axes>"
            ],
            "image/png": "[encoded data removed]"
          },
          "metadata": {
            "needs_background": "light"
          }
        }
      ],
      "source": [
        "#Below, we are plotting the convergence plot for the multiclass regression algorithm\n",
        "multi_Reg = MulticlassRegression()\n",
        "b = multi_Reg.fit(x=x_train_NewsGroup, y=encoded_train)\n",
        "plt.plot(b[0], np.array(b[1]))\n",
        "plt.xlabel('Iteration')\n",
        "plt.ylabel('Average Cross-Entropy')\n",
        "plt.title('Convergence Plot of Multiclass Logistic Regression Algorithm')\n",
        "plt.show()"
      ]
    },
    {
      "cell_type": "code",
      "source": [
        "# Gradient check for multiclass\n",
        "gradientCheck = multi_Reg.gradient_check()\n",
        "print(f'The result of the gradient check is: {gradientCheck}')\n",
        "# must be small (e.g. 10^-8)"
      ],
      "metadata": {
        "colab": {
          "base_uri": "https://localhost:8080/"
        },
        "id": "fYGn-MFNVVWx",
        "outputId": "86e0b9a0-23d3-41fc-96ea-acb8802ec8ef"
      },
      "execution_count": null,
      "outputs": [
        {
          "output_type": "stream",
          "name": "stdout",
          "text": [
            "The result of the gradient check is: 1182.0092478778472\n"
          ]
        }
      ]
    },
    {
      "cell_type": "markdown",
      "source": [
        "Heatmap of feature weights:"
      ],
      "metadata": {
        "id": "IgJzWHRST9bT"
      }
    },
    {
      "cell_type": "code",
      "execution_count": null,
      "metadata": {
        "colab": {
          "base_uri": "https://localhost:8080/",
          "height": 359
        },
        "id": "KrOhl04e5k2b",
        "outputId": "3fb020ef-ef36-4d05-d811-adbe1c8026a1"
      },
      "outputs": [
        {
          "output_type": "display_data",
          "data": {
            "text/plain": [
              "<Figure size 432x288 with 2 Axes>"
            ],
            "image/png": "[encoded data removed]"
          },
          "metadata": {
            "needs_background": "light"
          }
        }
      ],
      "source": [
        "multi_Reg = MulticlassRegression()\n",
        "w_hat = multi_Reg.fit(x=x_train_NewsGroup[:][newl], y=encoded_train)[2] #Find the values of w_hat for the 20 best features obtained previously\n",
        "#Below we transform w_hat\n",
        "w_hat = np.exp(w_hat)\n",
        "w_hat = w_hat / w_hat.sum(axis=0)[None,:]\n",
        "w_hat_df = pd.DataFrame(w_hat, columns=categories, index=count_vect.get_feature_names_out()[newl])\n",
        "\n",
        "#Create a heatmap of the weight values of the different feature names with the corresponding 4 article types\n",
        "from seaborn import heatmap\n",
        "hmp = heatmap(w_hat_df, cmap='BuPu')\n",
        "fig = hmp.get_figure()"
      ]
    }
  ],
  "metadata": {
    "colab": {
      "provenance": [],
      "include_colab_link": true
    },
    "kernelspec": {
      "display_name": "Python 3",
      "name": "python3"
    },
    "language_info": {
      "name": "python"
    }
  },
  "nbformat": 4,
  "nbformat_minor": 0
}